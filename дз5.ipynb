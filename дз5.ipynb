{
  "nbformat": 4,
  "nbformat_minor": 0,
  "metadata": {
    "colab": {
      "name": "дз5.ipynb",
      "provenance": []
    },
    "kernelspec": {
      "name": "python3",
      "display_name": "Python 3"
    },
    "language_info": {
      "name": "python"
    }
  },
  "cells": [
    {
      "cell_type": "code",
      "metadata": {
        "id": "0CCq0NlkWqoJ"
      },
      "source": [
        "import numpy as np\n",
        "from scipy import stats\n",
        "from matplotlib import pyplot as plt"
      ],
      "execution_count": 1,
      "outputs": []
    },
    {
      "cell_type": "markdown",
      "metadata": {
        "id": "lsGNdlLVWnBQ"
      },
      "source": [
        "__Задача 1__\n",
        "\n",
        "Известно, что генеральная совокупность распределена нормально с известным средним квадратическим отклонением 16. Найти доверительный интервал для оценки математического ожидания mu с надёжностью 0.95, если выборочное среднее равно 80, а объём равен 256."
      ]
    },
    {
      "cell_type": "code",
      "metadata": {
        "id": "86nt6bUNWkRB"
      },
      "source": [
        "n = 256\n",
        "p = 0.95\n",
        "std = 16\n",
        "x_mean = 80"
      ],
      "execution_count": 44,
      "outputs": []
    },
    {
      "cell_type": "code",
      "metadata": {
        "id": "69na7j26WkTr",
        "colab": {
          "base_uri": "https://localhost:8080/"
        },
        "outputId": "de7f1dc5-d02a-4f47-942b-1b60cd89b568"
      },
      "source": [
        "p = 0.95\n",
        "alpha = 1 - p\n",
        "\n",
        "t1 = stats.norm.ppf(alpha / 2)\n",
        "t2 = stats.norm.ppf(1 - alpha / 2)\n",
        "\n",
        "t1, t2"
      ],
      "execution_count": 45,
      "outputs": [
        {
          "output_type": "execute_result",
          "data": {
            "text/plain": [
              "(-1.959963984540054, 1.959963984540054)"
            ]
          },
          "metadata": {},
          "execution_count": 45
        }
      ]
    },
    {
      "cell_type": "code",
      "metadata": {
        "id": "BRqwLmfPWkVq",
        "colab": {
          "base_uri": "https://localhost:8080/"
        },
        "outputId": "efa534b0-2939-40c4-e83d-373d25202371"
      },
      "source": [
        "(x_mean + t1 * std / np.sqrt(n), x_mean + t2 * std / np.sqrt(n))"
      ],
      "execution_count": 46,
      "outputs": [
        {
          "output_type": "execute_result",
          "data": {
            "text/plain": [
              "(78.04003601545995, 81.95996398454005)"
            ]
          },
          "metadata": {},
          "execution_count": 46
        }
      ]
    },
    {
      "cell_type": "markdown",
      "metadata": {
        "id": "s2pOitqrFrae"
      },
      "source": [
        "__Ответ__: (78.0306894301508, 81.9693105698492)"
      ]
    },
    {
      "cell_type": "code",
      "metadata": {
        "id": "tvjCx7DQWXB6"
      },
      "source": [
        ""
      ],
      "execution_count": null,
      "outputs": []
    },
    {
      "cell_type": "code",
      "metadata": {
        "id": "YW_u9uLmWXEB"
      },
      "source": [
        ""
      ],
      "execution_count": null,
      "outputs": []
    },
    {
      "cell_type": "markdown",
      "metadata": {
        "id": "BT27JM-WF5iM"
      },
      "source": [
        "__Задача 2__\n",
        "\n",
        "Продавец утверждает, что средний вес пачки печенья составляет 200 г. Из партии извлечена выборка из 10 пачек. Вес каждой пачки составляет:\n",
        "```\n",
        "202, 203, 199, 197, 195, 201, 200, 204, 194, 190\n",
        "```\n",
        "Известно, что их веса распределены нормально. \n",
        "1. Верно ли утверждение продавца, если учитывать, что уровень значимости равен 1%? \n",
        "2. Найдите P-значение для данного теста."
      ]
    },
    {
      "cell_type": "code",
      "metadata": {
        "id": "UdlmElu7WXGa"
      },
      "source": [
        "samples = np.array([202, 203, 199, 197, 195, 201, 200, 204, 194, 190])\n",
        "alpha = 0.01\n",
        "n = 10\n",
        "x_mean = 200\n"
      ],
      "execution_count": 28,
      "outputs": []
    },
    {
      "cell_type": "code",
      "metadata": {
        "id": "LTCcXgv9WXIa",
        "colab": {
          "base_uri": "https://localhost:8080/"
        },
        "outputId": "509e59d5-8376-4e61-e4e3-6769b2761a9a"
      },
      "source": [
        "std = samples.std(ddof=1)\n",
        "std"
      ],
      "execution_count": 29,
      "outputs": [
        {
          "output_type": "execute_result",
          "data": {
            "text/plain": [
              "4.453463071962462"
            ]
          },
          "metadata": {},
          "execution_count": 29
        }
      ]
    },
    {
      "cell_type": "code",
      "metadata": {
        "id": "U7vtgmwcWXKm"
      },
      "source": [
        "def statistic(samples):\n",
        "    return (samples.mean() - x_mean) / (std / np.sqrt(n))"
      ],
      "execution_count": 17,
      "outputs": []
    },
    {
      "cell_type": "code",
      "metadata": {
        "id": "Rosx6yH6WXM2",
        "colab": {
          "base_uri": "https://localhost:8080/"
        },
        "outputId": "55dea3aa-ab6c-4105-af79-a91a6c1822fb"
      },
      "source": [
        "\n",
        "t1 = stats.t.ppf(alpha / 2, df=n - 1)\n",
        "t2 = stats.t.ppf(1 - alpha / 2, df=n - 1)\n",
        "\n",
        "t1, t2"
      ],
      "execution_count": 24,
      "outputs": [
        {
          "output_type": "execute_result",
          "data": {
            "text/plain": [
              "(-3.24983554401537, 3.2498355440153697)"
            ]
          },
          "metadata": {},
          "execution_count": 24
        }
      ]
    },
    {
      "cell_type": "code",
      "metadata": {
        "id": "bvz8ASdOWXPM",
        "colab": {
          "base_uri": "https://localhost:8080/"
        },
        "outputId": "ac062cbb-e330-4e84-9ffc-516d97bec34e"
      },
      "source": [
        "z = statistic(samples)\n",
        "z"
      ],
      "execution_count": 25,
      "outputs": [
        {
          "output_type": "execute_result",
          "data": {
            "text/plain": [
              "-1.0651074037450896"
            ]
          },
          "metadata": {},
          "execution_count": 25
        }
      ]
    },
    {
      "cell_type": "code",
      "metadata": {
        "id": "zzAf0P4GWXRN",
        "colab": {
          "base_uri": "https://localhost:8080/"
        },
        "outputId": "fd207030-53fb-4897-cc6c-cbd75f0ce02e"
      },
      "source": [
        "p_left = stats.t.cdf(z, df=n - 1)\n",
        "p_right = 1 - stats.t.cdf(z, df=n - 1)\n",
        "\n",
        "pvalue = 2 * min(p_left, p_right)\n",
        "\n",
        "pvalue"
      ],
      "execution_count": 27,
      "outputs": [
        {
          "output_type": "execute_result",
          "data": {
            "text/plain": [
              "0.31456660352472854"
            ]
          },
          "metadata": {},
          "execution_count": 27
        }
      ]
    },
    {
      "cell_type": "markdown",
      "metadata": {
        "id": "Rt-jSKP2MjyL"
      },
      "source": [
        "__Ответ__: 1) утверждение продавца верное, 2) Р-значение = 0.31456660352472854"
      ]
    },
    {
      "cell_type": "code",
      "metadata": {
        "id": "mNTZt-2uMuMg"
      },
      "source": [
        ""
      ],
      "execution_count": 27,
      "outputs": []
    },
    {
      "cell_type": "code",
      "metadata": {
        "id": "K_5JWpykMzF6"
      },
      "source": [
        ""
      ],
      "execution_count": null,
      "outputs": []
    },
    {
      "cell_type": "markdown",
      "metadata": {
        "id": "IPm6iILyNETb"
      },
      "source": [
        "__Задача 3__\n",
        "\n",
        "Утверждается, что шарики для подшипников, изготовленные автоматическим станком, имеют средний диаметр 17 мм. Используя уровень значимости 0.025 и правостороннюю критическую область, проверить данную гипотезу при условии, что в выборке из 100 шариков средний диаметр оказался равным 17.5 мм, а дисперсия известна и равна 4 мм."
      ]
    },
    {
      "cell_type": "code",
      "metadata": {
        "id": "jTp1tahdNHk4"
      },
      "source": [
        "a = 17\n",
        "alpha = 0.025\n",
        "n = 100\n",
        "mean = 17.5\n",
        "s = 2"
      ],
      "execution_count": 56,
      "outputs": []
    },
    {
      "cell_type": "code",
      "metadata": {
        "colab": {
          "base_uri": "https://localhost:8080/"
        },
        "id": "zbqtZwU9NnUp",
        "outputId": "9cfe375f-91c1-4f04-c02f-2ecb753c2e36"
      },
      "source": [
        "t = (mean - a) * np.sqrt(n) / s\n",
        "t"
      ],
      "execution_count": 57,
      "outputs": [
        {
          "output_type": "execute_result",
          "data": {
            "text/plain": [
              "2.5"
            ]
          },
          "metadata": {},
          "execution_count": 57
        }
      ]
    },
    {
      "cell_type": "code",
      "metadata": {
        "colab": {
          "base_uri": "https://localhost:8080/"
        },
        "id": "rxp8iSXDQVGP",
        "outputId": "f3da3106-e5f4-4d68-d9f3-ee590c093508"
      },
      "source": [
        "F_kr = (1 - 2 * alpha) / 2\n",
        "F_kr"
      ],
      "execution_count": 65,
      "outputs": [
        {
          "output_type": "execute_result",
          "data": {
            "text/plain": [
              "0.475"
            ]
          },
          "metadata": {},
          "execution_count": 65
        }
      ]
    },
    {
      "cell_type": "markdown",
      "metadata": {
        "id": "ylDgzruPdyJ_"
      },
      "source": [
        "По таблице Лапласа значение критической точки равно 1,96.\n",
        "Т.к. наблюдаемое значение больше критической точки - гипотеза отвергается."
      ]
    },
    {
      "cell_type": "code",
      "metadata": {
        "id": "EaC8mxB3SH-v"
      },
      "source": [
        ""
      ],
      "execution_count": 65,
      "outputs": []
    },
    {
      "cell_type": "code",
      "metadata": {
        "id": "ppWakZeXXaU9"
      },
      "source": [
        "\n"
      ],
      "execution_count": 65,
      "outputs": []
    },
    {
      "cell_type": "code",
      "metadata": {
        "id": "mYKjI-0qZ4YU"
      },
      "source": [
        ""
      ],
      "execution_count": null,
      "outputs": []
    }
  ]
}