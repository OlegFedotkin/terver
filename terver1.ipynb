{
 "cells": [
  {
   "cell_type": "code",
   "execution_count": 8,
   "id": "12401274",
   "metadata": {},
   "outputs": [],
   "source": [
    "from math import factorial"
   ]
  },
  {
   "cell_type": "code",
   "execution_count": 9,
   "id": "ded869c0",
   "metadata": {},
   "outputs": [],
   "source": [
    "def combinations(n, k):\n",
    "    return int(factorial(n) / (factorial(k) * factorial(n - k)))"
   ]
  },
  {
   "cell_type": "code",
   "execution_count": 10,
   "id": "d3cdfe2e",
   "metadata": {},
   "outputs": [],
   "source": [
    "def arrangements(n, k):\n",
    "    return int(factorial(n) / factorial(n - k))"
   ]
  },
  {
   "cell_type": "code",
   "execution_count": 11,
   "id": "6049ad11",
   "metadata": {},
   "outputs": [],
   "source": [
    "def permutations(n):\n",
    "    return int(factorial(n))"
   ]
  },
  {
   "cell_type": "code",
   "execution_count": null,
   "id": "0b5033fc",
   "metadata": {},
   "outputs": [],
   "source": []
  },
  {
   "cell_type": "markdown",
   "id": "69ec9cfd",
   "metadata": {},
   "source": [
    "**Задача 1**"
   ]
  },
  {
   "cell_type": "markdown",
   "id": "f8267e24",
   "metadata": {},
   "source": [
    "Группа студентов изучает 10 различных дисциплин. Сколькими способами можно составить расписание на понедельник, если в этот день должно быть 4 разных занятия?"
   ]
  },
  {
   "cell_type": "code",
   "execution_count": 13,
   "id": "275144fa",
   "metadata": {},
   "outputs": [
    {
     "data": {
      "text/plain": [
       "210"
      ]
     },
     "execution_count": 13,
     "metadata": {},
     "output_type": "execute_result"
    }
   ],
   "source": [
    "combinations(10, 4)"
   ]
  },
  {
   "cell_type": "markdown",
   "id": "5a1df640",
   "metadata": {},
   "source": [
    "Ответ: 210"
   ]
  },
  {
   "cell_type": "code",
   "execution_count": null,
   "id": "47888942",
   "metadata": {},
   "outputs": [],
   "source": []
  },
  {
   "cell_type": "markdown",
   "id": "2d8ab71c",
   "metadata": {},
   "source": [
    "**Задача 2**"
   ]
  },
  {
   "cell_type": "markdown",
   "id": "31354f77",
   "metadata": {},
   "source": [
    "Из колоды в 52 карты вынимают случайным образом 4 карты. Найти число исходов, соответствующих тому, что был вытянут хотя бы один туз."
   ]
  },
  {
   "cell_type": "code",
   "execution_count": 21,
   "id": "1e69688d",
   "metadata": {},
   "outputs": [
    {
     "data": {
      "text/plain": [
       "69184"
      ]
     },
     "execution_count": 21,
     "metadata": {},
     "output_type": "execute_result"
    }
   ],
   "source": [
    "one_ace = combinations(4, 1)\n",
    "one_ace_rest = combinations(48, 3)\n",
    "one_ace_combinations = one_ace * one_ace_rest\n",
    "one_ace_combinations"
   ]
  },
  {
   "cell_type": "code",
   "execution_count": 25,
   "id": "e9176fcc",
   "metadata": {},
   "outputs": [
    {
     "data": {
      "text/plain": [
       "6768"
      ]
     },
     "execution_count": 25,
     "metadata": {},
     "output_type": "execute_result"
    }
   ],
   "source": [
    "two_ace = combinations(4, 2)\n",
    "two_ace_rest = combinations(48, 2)\n",
    "two_ace_combinations = two_ace * two_ace_rest\n",
    "two_ace_combinations"
   ]
  },
  {
   "cell_type": "code",
   "execution_count": 26,
   "id": "51d80f5a",
   "metadata": {},
   "outputs": [
    {
     "data": {
      "text/plain": [
       "192"
      ]
     },
     "execution_count": 26,
     "metadata": {},
     "output_type": "execute_result"
    }
   ],
   "source": [
    "three_ace = combinations(4, 3)\n",
    "three_ace_rest = combinations(48, 1)\n",
    "three_ace_combinations = three_ace * three_ace_rest\n",
    "three_ace_combinations"
   ]
  },
  {
   "cell_type": "code",
   "execution_count": 27,
   "id": "15fa7344",
   "metadata": {},
   "outputs": [
    {
     "data": {
      "text/plain": [
       "1"
      ]
     },
     "execution_count": 27,
     "metadata": {},
     "output_type": "execute_result"
    }
   ],
   "source": [
    "four_ace = combinations(4, 4)\n",
    "four_ace_rest = combinations(48, 0)\n",
    "four_ace_combinations = four_ace * four_ace_rest\n",
    "four_ace_combinations"
   ]
  },
  {
   "cell_type": "code",
   "execution_count": 28,
   "id": "d71795cb",
   "metadata": {},
   "outputs": [
    {
     "data": {
      "text/plain": [
       "76145"
      ]
     },
     "execution_count": 28,
     "metadata": {},
     "output_type": "execute_result"
    }
   ],
   "source": [
    "answer = one_ace_combinations + two_ace_combinations + three_ace_combinations + four_ace_combinations\n",
    "answer"
   ]
  },
  {
   "cell_type": "markdown",
   "id": "36c07894",
   "metadata": {},
   "source": [
    "Ответ: 76145"
   ]
  },
  {
   "cell_type": "code",
   "execution_count": null,
   "id": "ffb76b7a",
   "metadata": {},
   "outputs": [],
   "source": []
  },
  {
   "cell_type": "markdown",
   "id": "3f969084",
   "metadata": {},
   "source": [
    "**Задача 3**"
   ]
  },
  {
   "cell_type": "markdown",
   "id": "e99998d3",
   "metadata": {},
   "source": [
    "Семь человек рассаживаются наудачу на скамейке. Какова вероятность того, что два определённых человека будут сидеть рядом?"
   ]
  },
  {
   "cell_type": "code",
   "execution_count": 37,
   "id": "9d16c9b0",
   "metadata": {},
   "outputs": [
    {
     "data": {
      "text/plain": [
       "21"
      ]
     },
     "execution_count": 37,
     "metadata": {},
     "output_type": "execute_result"
    }
   ],
   "source": [
    "combinations(7, 2)"
   ]
  },
  {
   "cell_type": "markdown",
   "id": "6426f067",
   "metadata": {},
   "source": [
    "Ответ: 21"
   ]
  },
  {
   "cell_type": "code",
   "execution_count": null,
   "id": "8b6ef733",
   "metadata": {},
   "outputs": [],
   "source": []
  },
  {
   "cell_type": "markdown",
   "id": "8250b101",
   "metadata": {},
   "source": [
    "**Задача 4**"
   ]
  },
  {
   "cell_type": "markdown",
   "id": "1d64d227",
   "metadata": {},
   "source": [
    "Из 60 вопросов, входящих в экзаменационные билеты, студент знает 50. Какова вероятность того, что среди трёх наугад выбранных вопросов студент знает: а) все? б) два?"
   ]
  },
  {
   "cell_type": "code",
   "execution_count": 35,
   "id": "5a201eb2",
   "metadata": {},
   "outputs": [
    {
     "data": {
      "text/plain": [
       "0.8868778280542986"
      ]
     },
     "execution_count": 35,
     "metadata": {},
     "output_type": "execute_result"
    }
   ],
   "source": [
    "Pa = combinations(50, 3) * combinations(10, 0) / combinations(52, 3)\n",
    "Pa"
   ]
  },
  {
   "cell_type": "code",
   "execution_count": 36,
   "id": "cfe7513d",
   "metadata": {},
   "outputs": [
    {
     "data": {
      "text/plain": [
       "0.5542986425339367"
      ]
     },
     "execution_count": 36,
     "metadata": {},
     "output_type": "execute_result"
    }
   ],
   "source": [
    "Pb = combinations(50, 2) * combinations(10, 1) / combinations(52, 3)\n",
    "Pb"
   ]
  },
  {
   "cell_type": "markdown",
   "id": "15fb36db",
   "metadata": {},
   "source": [
    "Ответ: а)0.8868778280542986, б) 0.5542986425339367"
   ]
  },
  {
   "cell_type": "code",
   "execution_count": null,
   "id": "1d01609b",
   "metadata": {},
   "outputs": [],
   "source": []
  },
  {
   "cell_type": "markdown",
   "id": "24c7ca43",
   "metadata": {},
   "source": [
    "**Задача 5**"
   ]
  },
  {
   "cell_type": "markdown",
   "id": "4de65d98",
   "metadata": {},
   "source": [
    "Бросается игральная кость. Пусть событие A - появление чётного числа, событие B - появление числа больше трёх. Являются ли эти события независимыми?"
   ]
  },
  {
   "cell_type": "markdown",
   "id": "59b5165b",
   "metadata": {},
   "source": [
    "События независимые, т.к. вероятность любого из них не зависит от появления, либо непоявления другого события."
   ]
  },
  {
   "cell_type": "code",
   "execution_count": null,
   "id": "df22586f",
   "metadata": {},
   "outputs": [],
   "source": []
  },
  {
   "cell_type": "markdown",
   "id": "72c6333f",
   "metadata": {},
   "source": [
    "**Задача 6**"
   ]
  },
  {
   "cell_type": "markdown",
   "id": "cf102619",
   "metadata": {},
   "source": [
    "Допустим, имеется некоторая очень редкая болезнь (поражает 0.1 % населения). Вы приходите к врачу, вам делают тест на эту болезнь, и тест оказывается положительным. Врач говорит вам, что этот тест верно выявляет 99 % больных этой болезнью и всего лишь в 1 % случаев даёт ложный положительный ответ.\n",
    "\n",
    "Вопрос: какова вероятность, что вы действительно больны ей?"
   ]
  },
  {
   "cell_type": "markdown",
   "id": "e2c01412",
   "metadata": {},
   "source": [
    "Вероятность заболевания - 0,001\n",
    "Вероятность незаболевания - 0,999\n",
    "Вероятность неверного теста - 0,01\n",
    "Вероятность верного теста - 0,99\n"
   ]
  },
  {
   "cell_type": "code",
   "execution_count": 41,
   "id": "576f231c",
   "metadata": {},
   "outputs": [
    {
     "data": {
      "text/plain": [
       "0.9098360655737705"
      ]
     },
     "execution_count": 41,
     "metadata": {},
     "output_type": "execute_result"
    }
   ],
   "source": [
    "PaB = (0.999 * 0.01) / (0.01 * 0.999 + 0.001 * 0.99)\n",
    "PaB"
   ]
  },
  {
   "cell_type": "markdown",
   "id": "e44b9813",
   "metadata": {},
   "source": [
    "Ответ: 0.9098360655737705"
   ]
  },
  {
   "cell_type": "code",
   "execution_count": null,
   "id": "f0bdd79b",
   "metadata": {},
   "outputs": [],
   "source": []
  },
  {
   "cell_type": "code",
   "execution_count": null,
   "id": "bf114bbb",
   "metadata": {},
   "outputs": [],
   "source": []
  },
  {
   "cell_type": "code",
   "execution_count": null,
   "id": "c9334a30",
   "metadata": {},
   "outputs": [],
   "source": []
  }
 ],
 "metadata": {
  "kernelspec": {
   "display_name": "Python 3",
   "language": "python",
   "name": "python3"
  },
  "language_info": {
   "codemirror_mode": {
    "name": "ipython",
    "version": 3
   },
   "file_extension": ".py",
   "mimetype": "text/x-python",
   "name": "python",
   "nbconvert_exporter": "python",
   "pygments_lexer": "ipython3",
   "version": "3.9.0"
  }
 },
 "nbformat": 4,
 "nbformat_minor": 5
}
