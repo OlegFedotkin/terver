{
 "cells": [
  {
   "cell_type": "code",
   "execution_count": 1,
   "metadata": {
    "_cell_guid": "b1076dfc-b9ad-4769-8c92-a6c4dae69d19",
    "_uuid": "8f2839f25d086af736a60e9eeb907d3b93b6e0e5",
    "execution": {
     "iopub.execute_input": "2021-09-30T09:52:30.272312Z",
     "iopub.status.busy": "2021-09-30T09:52:30.272002Z",
     "iopub.status.idle": "2021-09-30T09:52:30.292028Z",
     "shell.execute_reply": "2021-09-30T09:52:30.290916Z",
     "shell.execute_reply.started": "2021-09-30T09:52:30.27228Z"
    }
   },
   "outputs": [],
   "source": [
    "# This Python 3 environment comes with many helpful analytics libraries installed\n",
    "# It is defined by the kaggle/python Docker image: https://github.com/kaggle/docker-python\n",
    "# For example, here's several helpful packages to load\n",
    "\n",
    "import numpy as np # linear algebra\n",
    "import pandas as pd # data processing, CSV file I/O (e.g. pd.read_csv)\n",
    "import matplotlib.pyplot as plt\n",
    "import seaborn as sns\n",
    "%matplotlib inline\n",
    "import random\n",
    "\n",
    "from scipy.stats import shapiro\n",
    "from scipy import stats\n",
    "from scipy.stats import probplot\n",
    "from scipy.stats import ttest_ind, mannwhitneyu\n",
    "from scipy.stats import chi2_contingency\n",
    "# from statsmodels.stats.weightstats import zconfint\n",
    "import warnings\n",
    "warnings.filterwarnings('ignore')\n",
    "\n"
   ]
  },
  {
   "cell_type": "markdown",
   "metadata": {},
   "source": [
    "Attribute Information\n",
    "1) id: unique identifier\n",
    "2) gender: \"Male\", \"Female\" or \"Other\"\n",
    "3) age: age of the patient\n",
    "4) hypertension: 0 if the patient doesn't have hypertension, 1 if the patient has hypertension\n",
    "5) heart_disease: 0 if the patient doesn't have any heart diseases, 1 if the patient has a heart disease\n",
    "6) ever_married: 0 - \"No\" or 1 - \"Yes\"\n",
    "7) work_type: \"children\", \"Govt_jov\", \"Never_worked\", \"Private\" or \"Self-employed\"\n",
    "8) Residence_type: 0 - \"Rural\" or 1 - \"Urban\"\n",
    "9) avg_glucose_level: average glucose level in blood\n",
    "10) bmi: body mass index\n",
    "11) smoking_status: \"formerly smoked\", \"never smoked\", \"smokes\" or \"Unknown\"*\n",
    "12) stroke: 1 if the patient had a stroke or 0 if not\n",
    "*Note: \"Unknown\" in smoking_status means that the information is unavailable for this patient\n",
    "\n",
    "Acknowledgements\n",
    "(Confidential Source) - Use only for educational purposes\n",
    "If you use this dataset in your research, please credit the author."
   ]
  },
  {
   "cell_type": "code",
   "execution_count": 2,
   "metadata": {
    "execution": {
     "iopub.execute_input": "2021-09-30T09:52:30.296504Z",
     "iopub.status.busy": "2021-09-30T09:52:30.295865Z",
     "iopub.status.idle": "2021-09-30T09:52:30.315155Z",
     "shell.execute_reply": "2021-09-30T09:52:30.314339Z",
     "shell.execute_reply.started": "2021-09-30T09:52:30.296466Z"
    }
   },
   "outputs": [],
   "source": [
    "df = pd.read_csv('./healthcare-dataset-stroke-data.csv')"
   ]
  },
  {
   "cell_type": "markdown",
   "metadata": {},
   "source": [
    "__Выведем информацию о датасете:__"
   ]
  },
  {
   "cell_type": "code",
   "execution_count": 3,
   "metadata": {
    "execution": {
     "iopub.execute_input": "2021-09-30T09:52:30.316637Z",
     "iopub.status.busy": "2021-09-30T09:52:30.316386Z",
     "iopub.status.idle": "2021-09-30T09:52:30.33137Z",
     "shell.execute_reply": "2021-09-30T09:52:30.330804Z",
     "shell.execute_reply.started": "2021-09-30T09:52:30.316611Z"
    }
   },
   "outputs": [
    {
     "name": "stdout",
     "output_type": "stream",
     "text": [
      "<class 'pandas.core.frame.DataFrame'>\n",
      "RangeIndex: 5110 entries, 0 to 5109\n",
      "Data columns (total 12 columns):\n",
      " #   Column             Non-Null Count  Dtype  \n",
      "---  ------             --------------  -----  \n",
      " 0   id                 5110 non-null   int64  \n",
      " 1   gender             5110 non-null   object \n",
      " 2   age                5110 non-null   float64\n",
      " 3   hypertension       5110 non-null   int64  \n",
      " 4   heart_disease      5110 non-null   int64  \n",
      " 5   ever_married       5110 non-null   object \n",
      " 6   work_type          5110 non-null   object \n",
      " 7   Residence_type     5110 non-null   object \n",
      " 8   avg_glucose_level  5110 non-null   float64\n",
      " 9   bmi                4909 non-null   float64\n",
      " 10  smoking_status     5110 non-null   object \n",
      " 11  stroke             5110 non-null   int64  \n",
      "dtypes: float64(3), int64(4), object(5)\n",
      "memory usage: 479.2+ KB\n"
     ]
    }
   ],
   "source": [
    "df.info()"
   ]
  },
  {
   "cell_type": "code",
   "execution_count": 4,
   "metadata": {
    "execution": {
     "iopub.execute_input": "2021-09-30T09:52:30.332903Z",
     "iopub.status.busy": "2021-09-30T09:52:30.332206Z",
     "iopub.status.idle": "2021-09-30T09:52:30.34814Z",
     "shell.execute_reply": "2021-09-30T09:52:30.347564Z",
     "shell.execute_reply.started": "2021-09-30T09:52:30.33287Z"
    }
   },
   "outputs": [
    {
     "data": {
      "text/html": [
       "<div>\n",
       "<style scoped>\n",
       "    .dataframe tbody tr th:only-of-type {\n",
       "        vertical-align: middle;\n",
       "    }\n",
       "\n",
       "    .dataframe tbody tr th {\n",
       "        vertical-align: top;\n",
       "    }\n",
       "\n",
       "    .dataframe thead th {\n",
       "        text-align: right;\n",
       "    }\n",
       "</style>\n",
       "<table border=\"1\" class=\"dataframe\">\n",
       "  <thead>\n",
       "    <tr style=\"text-align: right;\">\n",
       "      <th></th>\n",
       "      <th>id</th>\n",
       "      <th>gender</th>\n",
       "      <th>age</th>\n",
       "      <th>hypertension</th>\n",
       "      <th>heart_disease</th>\n",
       "      <th>ever_married</th>\n",
       "      <th>work_type</th>\n",
       "      <th>Residence_type</th>\n",
       "      <th>avg_glucose_level</th>\n",
       "      <th>bmi</th>\n",
       "      <th>smoking_status</th>\n",
       "      <th>stroke</th>\n",
       "    </tr>\n",
       "  </thead>\n",
       "  <tbody>\n",
       "    <tr>\n",
       "      <th>0</th>\n",
       "      <td>9046</td>\n",
       "      <td>Male</td>\n",
       "      <td>67.0</td>\n",
       "      <td>0</td>\n",
       "      <td>1</td>\n",
       "      <td>Yes</td>\n",
       "      <td>Private</td>\n",
       "      <td>Urban</td>\n",
       "      <td>228.69</td>\n",
       "      <td>36.6</td>\n",
       "      <td>formerly smoked</td>\n",
       "      <td>1</td>\n",
       "    </tr>\n",
       "    <tr>\n",
       "      <th>1</th>\n",
       "      <td>51676</td>\n",
       "      <td>Female</td>\n",
       "      <td>61.0</td>\n",
       "      <td>0</td>\n",
       "      <td>0</td>\n",
       "      <td>Yes</td>\n",
       "      <td>Self-employed</td>\n",
       "      <td>Rural</td>\n",
       "      <td>202.21</td>\n",
       "      <td>NaN</td>\n",
       "      <td>never smoked</td>\n",
       "      <td>1</td>\n",
       "    </tr>\n",
       "    <tr>\n",
       "      <th>2</th>\n",
       "      <td>31112</td>\n",
       "      <td>Male</td>\n",
       "      <td>80.0</td>\n",
       "      <td>0</td>\n",
       "      <td>1</td>\n",
       "      <td>Yes</td>\n",
       "      <td>Private</td>\n",
       "      <td>Rural</td>\n",
       "      <td>105.92</td>\n",
       "      <td>32.5</td>\n",
       "      <td>never smoked</td>\n",
       "      <td>1</td>\n",
       "    </tr>\n",
       "    <tr>\n",
       "      <th>3</th>\n",
       "      <td>60182</td>\n",
       "      <td>Female</td>\n",
       "      <td>49.0</td>\n",
       "      <td>0</td>\n",
       "      <td>0</td>\n",
       "      <td>Yes</td>\n",
       "      <td>Private</td>\n",
       "      <td>Urban</td>\n",
       "      <td>171.23</td>\n",
       "      <td>34.4</td>\n",
       "      <td>smokes</td>\n",
       "      <td>1</td>\n",
       "    </tr>\n",
       "    <tr>\n",
       "      <th>4</th>\n",
       "      <td>1665</td>\n",
       "      <td>Female</td>\n",
       "      <td>79.0</td>\n",
       "      <td>1</td>\n",
       "      <td>0</td>\n",
       "      <td>Yes</td>\n",
       "      <td>Self-employed</td>\n",
       "      <td>Rural</td>\n",
       "      <td>174.12</td>\n",
       "      <td>24.0</td>\n",
       "      <td>never smoked</td>\n",
       "      <td>1</td>\n",
       "    </tr>\n",
       "  </tbody>\n",
       "</table>\n",
       "</div>"
      ],
      "text/plain": [
       "      id  gender   age  hypertension  heart_disease ever_married  \\\n",
       "0   9046    Male  67.0             0              1          Yes   \n",
       "1  51676  Female  61.0             0              0          Yes   \n",
       "2  31112    Male  80.0             0              1          Yes   \n",
       "3  60182  Female  49.0             0              0          Yes   \n",
       "4   1665  Female  79.0             1              0          Yes   \n",
       "\n",
       "       work_type Residence_type  avg_glucose_level   bmi   smoking_status  \\\n",
       "0        Private          Urban             228.69  36.6  formerly smoked   \n",
       "1  Self-employed          Rural             202.21   NaN     never smoked   \n",
       "2        Private          Rural             105.92  32.5     never smoked   \n",
       "3        Private          Urban             171.23  34.4           smokes   \n",
       "4  Self-employed          Rural             174.12  24.0     never smoked   \n",
       "\n",
       "   stroke  \n",
       "0       1  \n",
       "1       1  \n",
       "2       1  \n",
       "3       1  \n",
       "4       1  "
      ]
     },
     "execution_count": 4,
     "metadata": {},
     "output_type": "execute_result"
    }
   ],
   "source": [
    "df.head()"
   ]
  },
  {
   "cell_type": "code",
   "execution_count": 5,
   "metadata": {
    "execution": {
     "iopub.execute_input": "2021-09-30T09:52:30.350019Z",
     "iopub.status.busy": "2021-09-30T09:52:30.34967Z",
     "iopub.status.idle": "2021-09-30T09:52:30.360232Z",
     "shell.execute_reply": "2021-09-30T09:52:30.359625Z",
     "shell.execute_reply.started": "2021-09-30T09:52:30.349991Z"
    }
   },
   "outputs": [
    {
     "data": {
      "text/plain": [
       "(5110, 12)"
      ]
     },
     "execution_count": 5,
     "metadata": {},
     "output_type": "execute_result"
    }
   ],
   "source": [
    "df.shape"
   ]
  },
  {
   "cell_type": "code",
   "execution_count": 6,
   "metadata": {
    "execution": {
     "iopub.execute_input": "2021-09-30T09:52:30.361535Z",
     "iopub.status.busy": "2021-09-30T09:52:30.361051Z",
     "iopub.status.idle": "2021-09-30T09:52:30.398153Z",
     "shell.execute_reply": "2021-09-30T09:52:30.397493Z",
     "shell.execute_reply.started": "2021-09-30T09:52:30.361502Z"
    }
   },
   "outputs": [
    {
     "data": {
      "text/html": [
       "<div>\n",
       "<style scoped>\n",
       "    .dataframe tbody tr th:only-of-type {\n",
       "        vertical-align: middle;\n",
       "    }\n",
       "\n",
       "    .dataframe tbody tr th {\n",
       "        vertical-align: top;\n",
       "    }\n",
       "\n",
       "    .dataframe thead th {\n",
       "        text-align: right;\n",
       "    }\n",
       "</style>\n",
       "<table border=\"1\" class=\"dataframe\">\n",
       "  <thead>\n",
       "    <tr style=\"text-align: right;\">\n",
       "      <th></th>\n",
       "      <th>id</th>\n",
       "      <th>age</th>\n",
       "      <th>hypertension</th>\n",
       "      <th>heart_disease</th>\n",
       "      <th>avg_glucose_level</th>\n",
       "      <th>bmi</th>\n",
       "      <th>stroke</th>\n",
       "    </tr>\n",
       "  </thead>\n",
       "  <tbody>\n",
       "    <tr>\n",
       "      <th>count</th>\n",
       "      <td>5110.000000</td>\n",
       "      <td>5110.000000</td>\n",
       "      <td>5110.000000</td>\n",
       "      <td>5110.000000</td>\n",
       "      <td>5110.000000</td>\n",
       "      <td>4909.000000</td>\n",
       "      <td>5110.000000</td>\n",
       "    </tr>\n",
       "    <tr>\n",
       "      <th>mean</th>\n",
       "      <td>36517.829354</td>\n",
       "      <td>43.226614</td>\n",
       "      <td>0.097456</td>\n",
       "      <td>0.054012</td>\n",
       "      <td>106.147677</td>\n",
       "      <td>28.893237</td>\n",
       "      <td>0.048728</td>\n",
       "    </tr>\n",
       "    <tr>\n",
       "      <th>std</th>\n",
       "      <td>21161.721625</td>\n",
       "      <td>22.612647</td>\n",
       "      <td>0.296607</td>\n",
       "      <td>0.226063</td>\n",
       "      <td>45.283560</td>\n",
       "      <td>7.854067</td>\n",
       "      <td>0.215320</td>\n",
       "    </tr>\n",
       "    <tr>\n",
       "      <th>min</th>\n",
       "      <td>67.000000</td>\n",
       "      <td>0.080000</td>\n",
       "      <td>0.000000</td>\n",
       "      <td>0.000000</td>\n",
       "      <td>55.120000</td>\n",
       "      <td>10.300000</td>\n",
       "      <td>0.000000</td>\n",
       "    </tr>\n",
       "    <tr>\n",
       "      <th>25%</th>\n",
       "      <td>17741.250000</td>\n",
       "      <td>25.000000</td>\n",
       "      <td>0.000000</td>\n",
       "      <td>0.000000</td>\n",
       "      <td>77.245000</td>\n",
       "      <td>23.500000</td>\n",
       "      <td>0.000000</td>\n",
       "    </tr>\n",
       "    <tr>\n",
       "      <th>50%</th>\n",
       "      <td>36932.000000</td>\n",
       "      <td>45.000000</td>\n",
       "      <td>0.000000</td>\n",
       "      <td>0.000000</td>\n",
       "      <td>91.885000</td>\n",
       "      <td>28.100000</td>\n",
       "      <td>0.000000</td>\n",
       "    </tr>\n",
       "    <tr>\n",
       "      <th>75%</th>\n",
       "      <td>54682.000000</td>\n",
       "      <td>61.000000</td>\n",
       "      <td>0.000000</td>\n",
       "      <td>0.000000</td>\n",
       "      <td>114.090000</td>\n",
       "      <td>33.100000</td>\n",
       "      <td>0.000000</td>\n",
       "    </tr>\n",
       "    <tr>\n",
       "      <th>max</th>\n",
       "      <td>72940.000000</td>\n",
       "      <td>82.000000</td>\n",
       "      <td>1.000000</td>\n",
       "      <td>1.000000</td>\n",
       "      <td>271.740000</td>\n",
       "      <td>97.600000</td>\n",
       "      <td>1.000000</td>\n",
       "    </tr>\n",
       "  </tbody>\n",
       "</table>\n",
       "</div>"
      ],
      "text/plain": [
       "                 id          age  hypertension  heart_disease  \\\n",
       "count   5110.000000  5110.000000   5110.000000    5110.000000   \n",
       "mean   36517.829354    43.226614      0.097456       0.054012   \n",
       "std    21161.721625    22.612647      0.296607       0.226063   \n",
       "min       67.000000     0.080000      0.000000       0.000000   \n",
       "25%    17741.250000    25.000000      0.000000       0.000000   \n",
       "50%    36932.000000    45.000000      0.000000       0.000000   \n",
       "75%    54682.000000    61.000000      0.000000       0.000000   \n",
       "max    72940.000000    82.000000      1.000000       1.000000   \n",
       "\n",
       "       avg_glucose_level          bmi       stroke  \n",
       "count        5110.000000  4909.000000  5110.000000  \n",
       "mean          106.147677    28.893237     0.048728  \n",
       "std            45.283560     7.854067     0.215320  \n",
       "min            55.120000    10.300000     0.000000  \n",
       "25%            77.245000    23.500000     0.000000  \n",
       "50%            91.885000    28.100000     0.000000  \n",
       "75%           114.090000    33.100000     0.000000  \n",
       "max           271.740000    97.600000     1.000000  "
      ]
     },
     "execution_count": 6,
     "metadata": {},
     "output_type": "execute_result"
    }
   ],
   "source": [
    "df.describe()"
   ]
  },
  {
   "cell_type": "code",
   "execution_count": 7,
   "metadata": {
    "execution": {
     "iopub.execute_input": "2021-09-30T09:52:30.399746Z",
     "iopub.status.busy": "2021-09-30T09:52:30.399Z",
     "iopub.status.idle": "2021-09-30T09:52:30.403059Z",
     "shell.execute_reply": "2021-09-30T09:52:30.402302Z",
     "shell.execute_reply.started": "2021-09-30T09:52:30.399713Z"
    }
   },
   "outputs": [],
   "source": [
    "target = 'stroke'"
   ]
  },
  {
   "cell_type": "markdown",
   "metadata": {},
   "source": [
    "__Посмотрим распределение целевого признака \"stroke\":__"
   ]
  },
  {
   "cell_type": "code",
   "execution_count": 8,
   "metadata": {
    "execution": {
     "iopub.execute_input": "2021-09-30T09:52:30.404711Z",
     "iopub.status.busy": "2021-09-30T09:52:30.404263Z",
     "iopub.status.idle": "2021-09-30T09:52:30.578612Z",
     "shell.execute_reply": "2021-09-30T09:52:30.578027Z",
     "shell.execute_reply.started": "2021-09-30T09:52:30.40468Z"
    }
   },
   "outputs": [
    {
     "data": {
      "image/png": "[encoded data removed]",
      "text/plain": [
       "<Figure size 576x360 with 1 Axes>"
      ]
     },
     "metadata": {
      "needs_background": "light"
     },
     "output_type": "display_data"
    }
   ],
   "source": [
    "plt.figure(figsize=(8, 5))\n",
    "\n",
    "sns.countplot(x=target, data=df)\n",
    "\n",
    "plt.title('Target variable distribution')\n",
    "plt.show()"
   ]
  },
  {
   "cell_type": "code",
   "execution_count": 9,
   "metadata": {
    "execution": {
     "iopub.execute_input": "2021-09-30T09:57:10.494155Z",
     "iopub.status.busy": "2021-09-30T09:57:10.493839Z",
     "iopub.status.idle": "2021-09-30T09:57:10.502569Z",
     "shell.execute_reply": "2021-09-30T09:57:10.5016Z",
     "shell.execute_reply.started": "2021-09-30T09:57:10.494123Z"
    }
   },
   "outputs": [],
   "source": [
    "# df.drop('id', axis=1, inplace=True)"
   ]
  },
  {
   "cell_type": "markdown",
   "metadata": {
    "execution": {
     "iopub.execute_input": "2021-09-27T13:06:01.5815Z",
     "iopub.status.busy": "2021-09-27T13:06:01.581156Z",
     "iopub.status.idle": "2021-09-27T13:06:01.587759Z",
     "shell.execute_reply": "2021-09-27T13:06:01.586724Z",
     "shell.execute_reply.started": "2021-09-27T13:06:01.581468Z"
    }
   },
   "source": [
    "__Для удобства переведем некоторые категориальные признаки в биноминальные:__"
   ]
  },
  {
   "cell_type": "code",
   "execution_count": 10,
   "metadata": {
    "execution": {
     "iopub.execute_input": "2021-09-30T09:52:30.586749Z",
     "iopub.status.busy": "2021-09-30T09:52:30.586543Z",
     "iopub.status.idle": "2021-09-30T09:52:30.612611Z",
     "shell.execute_reply": "2021-09-30T09:52:30.611767Z",
     "shell.execute_reply.started": "2021-09-30T09:52:30.586724Z"
    }
   },
   "outputs": [],
   "source": [
    "df.replace({'gender': {'Male': 0, 'Female': 1, 'Other': 1}}, inplace=True)\n",
    "df.replace({'Residence_type': {'Urban': 0, 'Rural': 1}}, inplace=True)\n",
    "df.replace({'ever_married': {'Yes': 0, 'No': 1}}, inplace=True)\n",
    "# df['gender'] = df['gender'].astype(int)"
   ]
  },
  {
   "cell_type": "markdown",
   "metadata": {},
   "source": [
    "__Заполним пропуски средними значениями:__"
   ]
  },
  {
   "cell_type": "code",
   "execution_count": 11,
   "metadata": {
    "execution": {
     "iopub.execute_input": "2021-09-30T09:52:30.629998Z",
     "iopub.status.busy": "2021-09-30T09:52:30.62953Z",
     "iopub.status.idle": "2021-09-30T09:52:30.635764Z",
     "shell.execute_reply": "2021-09-30T09:52:30.635175Z",
     "shell.execute_reply.started": "2021-09-30T09:52:30.629952Z"
    }
   },
   "outputs": [],
   "source": [
    "df.loc[df['bmi'].isna(), 'bmi'] = df['bmi'].mean()"
   ]
  },
  {
   "cell_type": "markdown",
   "metadata": {
    "execution": {
     "iopub.execute_input": "2021-09-27T13:08:55.742097Z",
     "iopub.status.busy": "2021-09-27T13:08:55.741172Z",
     "iopub.status.idle": "2021-09-27T13:08:55.746866Z",
     "shell.execute_reply": "2021-09-27T13:08:55.745932Z",
     "shell.execute_reply.started": "2021-09-27T13:08:55.742057Z"
    }
   },
   "source": [
    "__Посмотрим наличие корреляции некоторых признаков к целевой переменной:__"
   ]
  },
  {
   "cell_type": "code",
   "execution_count": 12,
   "metadata": {
    "execution": {
     "iopub.execute_input": "2021-09-30T09:52:30.637315Z",
     "iopub.status.busy": "2021-09-30T09:52:30.636633Z",
     "iopub.status.idle": "2021-09-30T09:52:30.655861Z",
     "shell.execute_reply": "2021-09-30T09:52:30.654905Z",
     "shell.execute_reply.started": "2021-09-30T09:52:30.637281Z"
    }
   },
   "outputs": [
    {
     "data": {
      "text/html": [
       "<div>\n",
       "<style scoped>\n",
       "    .dataframe tbody tr th:only-of-type {\n",
       "        vertical-align: middle;\n",
       "    }\n",
       "\n",
       "    .dataframe tbody tr th {\n",
       "        vertical-align: top;\n",
       "    }\n",
       "\n",
       "    .dataframe thead th {\n",
       "        text-align: right;\n",
       "    }\n",
       "</style>\n",
       "<table border=\"1\" class=\"dataframe\">\n",
       "  <thead>\n",
       "    <tr style=\"text-align: right;\">\n",
       "      <th></th>\n",
       "      <th>stroke</th>\n",
       "      <th>age</th>\n",
       "    </tr>\n",
       "  </thead>\n",
       "  <tbody>\n",
       "    <tr>\n",
       "      <th>stroke</th>\n",
       "      <td>1.000000</td>\n",
       "      <td>0.245257</td>\n",
       "    </tr>\n",
       "    <tr>\n",
       "      <th>age</th>\n",
       "      <td>0.245257</td>\n",
       "      <td>1.000000</td>\n",
       "    </tr>\n",
       "  </tbody>\n",
       "</table>\n",
       "</div>"
      ],
      "text/plain": [
       "          stroke       age\n",
       "stroke  1.000000  0.245257\n",
       "age     0.245257  1.000000"
      ]
     },
     "execution_count": 12,
     "metadata": {},
     "output_type": "execute_result"
    }
   ],
   "source": [
    "corr_matrix_for_age = df.loc[:, ['stroke', 'age']].corr()\n",
    "corr_matrix_for_age"
   ]
  },
  {
   "cell_type": "code",
   "execution_count": 13,
   "metadata": {
    "execution": {
     "iopub.execute_input": "2021-09-30T09:52:30.657884Z",
     "iopub.status.busy": "2021-09-30T09:52:30.657397Z",
     "iopub.status.idle": "2021-09-30T09:52:30.672863Z",
     "shell.execute_reply": "2021-09-30T09:52:30.671898Z",
     "shell.execute_reply.started": "2021-09-30T09:52:30.657839Z"
    }
   },
   "outputs": [
    {
     "data": {
      "text/html": [
       "<div>\n",
       "<style scoped>\n",
       "    .dataframe tbody tr th:only-of-type {\n",
       "        vertical-align: middle;\n",
       "    }\n",
       "\n",
       "    .dataframe tbody tr th {\n",
       "        vertical-align: top;\n",
       "    }\n",
       "\n",
       "    .dataframe thead th {\n",
       "        text-align: right;\n",
       "    }\n",
       "</style>\n",
       "<table border=\"1\" class=\"dataframe\">\n",
       "  <thead>\n",
       "    <tr style=\"text-align: right;\">\n",
       "      <th></th>\n",
       "      <th>stroke</th>\n",
       "      <th>hypertension</th>\n",
       "    </tr>\n",
       "  </thead>\n",
       "  <tbody>\n",
       "    <tr>\n",
       "      <th>stroke</th>\n",
       "      <td>1.000000</td>\n",
       "      <td>0.127904</td>\n",
       "    </tr>\n",
       "    <tr>\n",
       "      <th>hypertension</th>\n",
       "      <td>0.127904</td>\n",
       "      <td>1.000000</td>\n",
       "    </tr>\n",
       "  </tbody>\n",
       "</table>\n",
       "</div>"
      ],
      "text/plain": [
       "                stroke  hypertension\n",
       "stroke        1.000000      0.127904\n",
       "hypertension  0.127904      1.000000"
      ]
     },
     "execution_count": 13,
     "metadata": {},
     "output_type": "execute_result"
    }
   ],
   "source": [
    "corr_matrix_for_hypertension = df.loc[:, ['stroke', 'hypertension']].corr()\n",
    "corr_matrix_for_hypertension"
   ]
  },
  {
   "cell_type": "code",
   "execution_count": 14,
   "metadata": {
    "execution": {
     "iopub.execute_input": "2021-09-30T09:52:30.674699Z",
     "iopub.status.busy": "2021-09-30T09:52:30.674025Z",
     "iopub.status.idle": "2021-09-30T09:52:30.686259Z",
     "shell.execute_reply": "2021-09-30T09:52:30.685344Z",
     "shell.execute_reply.started": "2021-09-30T09:52:30.674666Z"
    }
   },
   "outputs": [
    {
     "data": {
      "text/html": [
       "<div>\n",
       "<style scoped>\n",
       "    .dataframe tbody tr th:only-of-type {\n",
       "        vertical-align: middle;\n",
       "    }\n",
       "\n",
       "    .dataframe tbody tr th {\n",
       "        vertical-align: top;\n",
       "    }\n",
       "\n",
       "    .dataframe thead th {\n",
       "        text-align: right;\n",
       "    }\n",
       "</style>\n",
       "<table border=\"1\" class=\"dataframe\">\n",
       "  <thead>\n",
       "    <tr style=\"text-align: right;\">\n",
       "      <th></th>\n",
       "      <th>stroke</th>\n",
       "      <th>heart_disease</th>\n",
       "    </tr>\n",
       "  </thead>\n",
       "  <tbody>\n",
       "    <tr>\n",
       "      <th>stroke</th>\n",
       "      <td>1.000000</td>\n",
       "      <td>0.134914</td>\n",
       "    </tr>\n",
       "    <tr>\n",
       "      <th>heart_disease</th>\n",
       "      <td>0.134914</td>\n",
       "      <td>1.000000</td>\n",
       "    </tr>\n",
       "  </tbody>\n",
       "</table>\n",
       "</div>"
      ],
      "text/plain": [
       "                 stroke  heart_disease\n",
       "stroke         1.000000       0.134914\n",
       "heart_disease  0.134914       1.000000"
      ]
     },
     "execution_count": 14,
     "metadata": {},
     "output_type": "execute_result"
    }
   ],
   "source": [
    "corr_matrix_for_heart_disease = df.loc[:, ['stroke', 'heart_disease']].corr()\n",
    "corr_matrix_for_heart_disease"
   ]
  },
  {
   "cell_type": "code",
   "execution_count": 15,
   "metadata": {
    "execution": {
     "iopub.execute_input": "2021-09-30T09:52:30.688044Z",
     "iopub.status.busy": "2021-09-30T09:52:30.687761Z",
     "iopub.status.idle": "2021-09-30T09:52:30.699307Z",
     "shell.execute_reply": "2021-09-30T09:52:30.698474Z",
     "shell.execute_reply.started": "2021-09-30T09:52:30.688015Z"
    }
   },
   "outputs": [
    {
     "data": {
      "text/html": [
       "<div>\n",
       "<style scoped>\n",
       "    .dataframe tbody tr th:only-of-type {\n",
       "        vertical-align: middle;\n",
       "    }\n",
       "\n",
       "    .dataframe tbody tr th {\n",
       "        vertical-align: top;\n",
       "    }\n",
       "\n",
       "    .dataframe thead th {\n",
       "        text-align: right;\n",
       "    }\n",
       "</style>\n",
       "<table border=\"1\" class=\"dataframe\">\n",
       "  <thead>\n",
       "    <tr style=\"text-align: right;\">\n",
       "      <th></th>\n",
       "      <th>stroke</th>\n",
       "      <th>ever_married</th>\n",
       "    </tr>\n",
       "  </thead>\n",
       "  <tbody>\n",
       "    <tr>\n",
       "      <th>stroke</th>\n",
       "      <td>1.00000</td>\n",
       "      <td>-0.10834</td>\n",
       "    </tr>\n",
       "    <tr>\n",
       "      <th>ever_married</th>\n",
       "      <td>-0.10834</td>\n",
       "      <td>1.00000</td>\n",
       "    </tr>\n",
       "  </tbody>\n",
       "</table>\n",
       "</div>"
      ],
      "text/plain": [
       "               stroke  ever_married\n",
       "stroke        1.00000      -0.10834\n",
       "ever_married -0.10834       1.00000"
      ]
     },
     "execution_count": 15,
     "metadata": {},
     "output_type": "execute_result"
    }
   ],
   "source": [
    "corr_matrix_for_ever_married = df.loc[:, ['stroke', 'ever_married']].corr()\n",
    "corr_matrix_for_ever_married"
   ]
  },
  {
   "cell_type": "markdown",
   "metadata": {
    "execution": {
     "iopub.execute_input": "2021-09-27T13:09:37.247908Z",
     "iopub.status.busy": "2021-09-27T13:09:37.247244Z",
     "iopub.status.idle": "2021-09-27T13:09:37.253634Z",
     "shell.execute_reply": "2021-09-27T13:09:37.252465Z",
     "shell.execute_reply.started": "2021-09-27T13:09:37.247857Z"
    }
   },
   "source": [
    "__Для удобства построим гистограмму корреляциий:__"
   ]
  },
  {
   "cell_type": "code",
   "execution_count": 16,
   "metadata": {
    "execution": {
     "iopub.execute_input": "2021-09-30T09:57:28.624943Z",
     "iopub.status.busy": "2021-09-30T09:57:28.624649Z",
     "iopub.status.idle": "2021-09-30T09:57:28.909213Z",
     "shell.execute_reply": "2021-09-30T09:57:28.907564Z",
     "shell.execute_reply.started": "2021-09-30T09:57:28.624912Z"
    }
   },
   "outputs": [
    {
     "data": {
      "image/png": "[encoded data removed]",
      "text/plain": [
       "<Figure size 720x576 with 1 Axes>"
      ]
     },
     "metadata": {
      "needs_background": "light"
     },
     "output_type": "display_data"
    }
   ],
   "source": [
    "corr_with_target = df.corr().iloc[:-1, -1].sort_values(ascending=False)\n",
    "\n",
    "plt.figure(figsize=(10, 8))\n",
    "\n",
    "sns.barplot(x=corr_with_target.values, y=corr_with_target.index)\n",
    "\n",
    "plt.title('Correlation with target variable')\n",
    "plt.show()"
   ]
  },
  {
   "cell_type": "markdown",
   "metadata": {
    "execution": {
     "iopub.execute_input": "2021-09-27T13:11:46.444673Z",
     "iopub.status.busy": "2021-09-27T13:11:46.443693Z",
     "iopub.status.idle": "2021-09-27T13:11:46.450925Z",
     "shell.execute_reply": "2021-09-27T13:11:46.449757Z",
     "shell.execute_reply.started": "2021-09-27T13:11:46.444618Z"
    }
   },
   "source": [
    "__Оценка признака \"work_type\" в разрезе целевой переменной:__"
   ]
  },
  {
   "cell_type": "code",
   "execution_count": 17,
   "metadata": {
    "execution": {
     "iopub.execute_input": "2021-09-30T09:52:30.978291Z",
     "iopub.status.busy": "2021-09-30T09:52:30.977877Z",
     "iopub.status.idle": "2021-09-30T09:52:31.230683Z",
     "shell.execute_reply": "2021-09-30T09:52:31.22975Z",
     "shell.execute_reply.started": "2021-09-30T09:52:30.978246Z"
    }
   },
   "outputs": [
    {
     "data": {
      "image/png": "[encoded data removed]",
      "text/plain": [
       "<Figure size 720x576 with 1 Axes>"
      ]
     },
     "metadata": {
      "needs_background": "light"
     },
     "output_type": "display_data"
    }
   ],
   "source": [
    "plt.figure(figsize=(10, 8))\n",
    "\n",
    "sns.countplot(x=\"work_type\", hue=target, data=df)\n",
    "plt.title('work_type grouped by target variable')\n",
    "plt.legend(title='Target', loc='upper right')\n",
    "\n",
    "plt.show()"
   ]
  },
  {
   "cell_type": "markdown",
   "metadata": {},
   "source": [
    "__Наблюдение__\n",
    "\n",
    "Из гистограммы видно, что распределения признака work_type имеют схожие доли в разрезе целевой переменной. Если это так, то возможно, например, объединить их в одну категорию.\n",
    "\n",
    "__Гипотеза__\n",
    "\n",
    "Нулевая гипотеза: ожидаемые и наблюдаемые частоты согласованы\n",
    "\n",
    "Альтернативная гипотеза: отклонения в частотах выходят за рамки случайных \n",
    "колебаний, расхождения статистически значимы\n",
    "\n",
    "Критерий: Хи-квадрат Пирсона\n",
    "\n",
    "Уровень значимости  α : 0.05\n",
    "\n",
    "Критическая область: двухсторонняя"
   ]
  },
  {
   "cell_type": "markdown",
   "metadata": {},
   "source": [
    "__Сформируем выборку и рассчитаем наблюдаемые частоты__"
   ]
  },
  {
   "cell_type": "code",
   "execution_count": 18,
   "metadata": {
    "execution": {
     "iopub.execute_input": "2021-09-30T09:52:31.23197Z",
     "iopub.status.busy": "2021-09-30T09:52:31.231757Z",
     "iopub.status.idle": "2021-09-30T09:52:31.256023Z",
     "shell.execute_reply": "2021-09-30T09:52:31.255076Z",
     "shell.execute_reply.started": "2021-09-30T09:52:31.231945Z"
    }
   },
   "outputs": [
    {
     "data": {
      "text/html": [
       "<div>\n",
       "<style scoped>\n",
       "    .dataframe tbody tr th:only-of-type {\n",
       "        vertical-align: middle;\n",
       "    }\n",
       "\n",
       "    .dataframe tbody tr th {\n",
       "        vertical-align: top;\n",
       "    }\n",
       "\n",
       "    .dataframe thead th {\n",
       "        text-align: right;\n",
       "    }\n",
       "</style>\n",
       "<table border=\"1\" class=\"dataframe\">\n",
       "  <thead>\n",
       "    <tr style=\"text-align: right;\">\n",
       "      <th>stroke</th>\n",
       "      <th>0</th>\n",
       "      <th>1</th>\n",
       "    </tr>\n",
       "    <tr>\n",
       "      <th>work_type</th>\n",
       "      <th></th>\n",
       "      <th></th>\n",
       "    </tr>\n",
       "  </thead>\n",
       "  <tbody>\n",
       "    <tr>\n",
       "      <th>Govt_job</th>\n",
       "      <td>624</td>\n",
       "      <td>33</td>\n",
       "    </tr>\n",
       "    <tr>\n",
       "      <th>Private</th>\n",
       "      <td>2776</td>\n",
       "      <td>149</td>\n",
       "    </tr>\n",
       "  </tbody>\n",
       "</table>\n",
       "</div>"
      ],
      "text/plain": [
       "stroke        0    1\n",
       "work_type           \n",
       "Govt_job    624   33\n",
       "Private    2776  149"
      ]
     },
     "execution_count": 18,
     "metadata": {},
     "output_type": "execute_result"
    }
   ],
   "source": [
    "work_type_and_stroke = df.loc[df['work_type'].isin(['Private', 'Govt_job']), ['id', 'work_type', 'stroke']]\n",
    "table = work_type_and_stroke.pivot_table(values='id', index='work_type', columns='stroke', aggfunc='count')\n",
    "table"
   ]
  },
  {
   "cell_type": "markdown",
   "metadata": {},
   "source": [
    "Проверим нашу гипотезу используя критерий Хи-квадрат Пирсона"
   ]
  },
  {
   "cell_type": "code",
   "execution_count": 19,
   "metadata": {
    "execution": {
     "iopub.execute_input": "2021-09-30T09:52:31.257729Z",
     "iopub.status.busy": "2021-09-30T09:52:31.257426Z",
     "iopub.status.idle": "2021-09-30T09:52:31.265169Z",
     "shell.execute_reply": "2021-09-30T09:52:31.264329Z",
     "shell.execute_reply.started": "2021-09-30T09:52:31.257689Z"
    }
   },
   "outputs": [
    {
     "data": {
      "text/plain": [
       "0.9401505307957279"
      ]
     },
     "execution_count": 19,
     "metadata": {},
     "output_type": "execute_result"
    }
   ],
   "source": [
    "chi2, p, dof, expected = chi2_contingency(table, correction=False)\n",
    "p"
   ]
  },
  {
   "cell_type": "markdown",
   "metadata": {
    "execution": {
     "iopub.execute_input": "2021-09-27T13:27:29.563052Z",
     "iopub.status.busy": "2021-09-27T13:27:29.562712Z",
     "iopub.status.idle": "2021-09-27T13:27:29.569867Z",
     "shell.execute_reply": "2021-09-27T13:27:29.568707Z",
     "shell.execute_reply.started": "2021-09-27T13:27:29.563018Z"
    }
   },
   "source": [
    "P-value получилось больше выбранного уровня значимости, соответственно у нас нет оснований для отвержения нулевой гипотезы и можно допустить, что категории Private и Self-employed одинаково влияют на целевую переменную и их можно объединить в одну категорию."
   ]
  },
  {
   "cell_type": "markdown",
   "metadata": {
    "execution": {
     "iopub.execute_input": "2021-09-27T13:28:51.498853Z",
     "iopub.status.busy": "2021-09-27T13:28:51.497815Z",
     "iopub.status.idle": "2021-09-27T13:28:51.503812Z",
     "shell.execute_reply": "2021-09-27T13:28:51.502868Z",
     "shell.execute_reply.started": "2021-09-27T13:28:51.498801Z"
    }
   },
   "source": [
    "__Проверим для пары категорий Private и Self-employed:__"
   ]
  },
  {
   "cell_type": "code",
   "execution_count": 20,
   "metadata": {
    "execution": {
     "iopub.execute_input": "2021-09-30T09:52:31.266914Z",
     "iopub.status.busy": "2021-09-30T09:52:31.2666Z",
     "iopub.status.idle": "2021-09-30T09:52:31.293417Z",
     "shell.execute_reply": "2021-09-30T09:52:31.292488Z",
     "shell.execute_reply.started": "2021-09-30T09:52:31.266877Z"
    }
   },
   "outputs": [
    {
     "data": {
      "text/plain": [
       "0.001953185891764818"
      ]
     },
     "execution_count": 20,
     "metadata": {},
     "output_type": "execute_result"
    }
   ],
   "source": [
    "work_type_and_stroke = df.loc[df['work_type'].isin(['Private', 'Self-employed']), ['id', 'work_type', 'stroke']]\n",
    "table = work_type_and_stroke.pivot_table(values='id', index='work_type', columns='stroke', aggfunc='count')\n",
    "chi2, p, dof, expected = chi2_contingency(table, correction=False)\n",
    "p"
   ]
  },
  {
   "cell_type": "markdown",
   "metadata": {},
   "source": [
    "P-value получилось меньше выбранного уровня значимости, соответственно у нас нет оснований для принятия нулевой гипотезы."
   ]
  },
  {
   "cell_type": "markdown",
   "metadata": {},
   "source": [
    "__Проверим для пары категорий children и Never_worked:__"
   ]
  },
  {
   "cell_type": "code",
   "execution_count": 21,
   "metadata": {
    "execution": {
     "iopub.execute_input": "2021-09-30T09:52:31.294877Z",
     "iopub.status.busy": "2021-09-30T09:52:31.294584Z",
     "iopub.status.idle": "2021-09-30T09:52:31.313178Z",
     "shell.execute_reply": "2021-09-30T09:52:31.312535Z",
     "shell.execute_reply.started": "2021-09-30T09:52:31.294838Z"
    }
   },
   "outputs": [
    {
     "data": {
      "text/plain": [
       "nan"
      ]
     },
     "execution_count": 21,
     "metadata": {},
     "output_type": "execute_result"
    }
   ],
   "source": [
    "work_type_and_stroke = df.loc[df['work_type'].isin(['children', 'Never_worked']), ['id', 'work_type', 'stroke']]\n",
    "table = work_type_and_stroke.pivot_table(values='id', index='work_type', columns='stroke', aggfunc='count')\n",
    "chi2, p, dof, expected = chi2_contingency(table, correction=False)\n",
    "p"
   ]
  },
  {
   "cell_type": "markdown",
   "metadata": {},
   "source": [
    "P-value получилось больше выбранного уровня значимости, соответственно у нас нет оснований для отвержения нулевой гипотезы и можно допустить, что категории children и Never_worked одинаково влияют на целевую переменную и их можно объединить в одну категорию."
   ]
  },
  {
   "cell_type": "markdown",
   "metadata": {},
   "source": [
    "__По итогам объединим пару категорий Private и Govt_job и пару категорий children, Never_worked__ "
   ]
  },
  {
   "cell_type": "code",
   "execution_count": 22,
   "metadata": {
    "execution": {
     "iopub.execute_input": "2021-09-30T09:52:31.316844Z",
     "iopub.status.busy": "2021-09-30T09:52:31.316636Z",
     "iopub.status.idle": "2021-09-30T09:52:31.327792Z",
     "shell.execute_reply": "2021-09-30T09:52:31.326734Z",
     "shell.execute_reply.started": "2021-09-30T09:52:31.316819Z"
    }
   },
   "outputs": [],
   "source": [
    "df.loc[df['work_type'].isin(['Private', 'Govt_job']), 'work_type'] = 1\n",
    "df.loc[df['work_type'].isin(['children', 'Never_worked']), 'work_type'] = 0\n",
    "df.loc[df['work_type'].isin(['Self-employed']), 'work_type'] = 2\n",
    "df['work_type'] = df['work_type'].astype(int)"
   ]
  },
  {
   "cell_type": "markdown",
   "metadata": {},
   "source": [
    "__Сгруппируем по категориям признак smoking_status и вычислим средние значения по отношению к целевому признаку__"
   ]
  },
  {
   "cell_type": "code",
   "execution_count": 23,
   "metadata": {
    "execution": {
     "iopub.execute_input": "2021-09-30T09:52:31.32934Z",
     "iopub.status.busy": "2021-09-30T09:52:31.329041Z",
     "iopub.status.idle": "2021-09-30T09:52:31.347268Z",
     "shell.execute_reply": "2021-09-30T09:52:31.346524Z",
     "shell.execute_reply.started": "2021-09-30T09:52:31.329303Z"
    }
   },
   "outputs": [
    {
     "data": {
      "text/html": [
       "<div>\n",
       "<style scoped>\n",
       "    .dataframe tbody tr th:only-of-type {\n",
       "        vertical-align: middle;\n",
       "    }\n",
       "\n",
       "    .dataframe tbody tr th {\n",
       "        vertical-align: top;\n",
       "    }\n",
       "\n",
       "    .dataframe thead th {\n",
       "        text-align: right;\n",
       "    }\n",
       "</style>\n",
       "<table border=\"1\" class=\"dataframe\">\n",
       "  <thead>\n",
       "    <tr style=\"text-align: right;\">\n",
       "      <th></th>\n",
       "      <th>smoking_status</th>\n",
       "      <th>smoking_status_mean</th>\n",
       "    </tr>\n",
       "  </thead>\n",
       "  <tbody>\n",
       "    <tr>\n",
       "      <th>0</th>\n",
       "      <td>Unknown</td>\n",
       "      <td>0.030440</td>\n",
       "    </tr>\n",
       "    <tr>\n",
       "      <th>1</th>\n",
       "      <td>formerly smoked</td>\n",
       "      <td>0.079096</td>\n",
       "    </tr>\n",
       "    <tr>\n",
       "      <th>2</th>\n",
       "      <td>never smoked</td>\n",
       "      <td>0.047569</td>\n",
       "    </tr>\n",
       "    <tr>\n",
       "      <th>3</th>\n",
       "      <td>smokes</td>\n",
       "      <td>0.053232</td>\n",
       "    </tr>\n",
       "  </tbody>\n",
       "</table>\n",
       "</div>"
      ],
      "text/plain": [
       "    smoking_status  smoking_status_mean\n",
       "0          Unknown             0.030440\n",
       "1  formerly smoked             0.079096\n",
       "2     never smoked             0.047569\n",
       "3           smokes             0.053232"
      ]
     },
     "execution_count": 23,
     "metadata": {},
     "output_type": "execute_result"
    }
   ],
   "source": [
    "smoking_status = df.groupby('smoking_status', as_index=False).agg({'stroke':'mean'}).rename(columns={'stroke':'smoking_status_mean'})\n",
    "smoking_status"
   ]
  },
  {
   "cell_type": "markdown",
   "metadata": {},
   "source": [
    "По таблице не прослеживается связь между курением и сердечными приступами. Возможно, есть связь между курением и ранее выявленным заболеваниями. Вычислим средние значения."
   ]
  },
  {
   "cell_type": "code",
   "execution_count": 24,
   "metadata": {
    "execution": {
     "iopub.execute_input": "2021-09-30T09:52:31.349134Z",
     "iopub.status.busy": "2021-09-30T09:52:31.34854Z",
     "iopub.status.idle": "2021-09-30T09:52:31.366627Z",
     "shell.execute_reply": "2021-09-30T09:52:31.364966Z",
     "shell.execute_reply.started": "2021-09-30T09:52:31.349102Z"
    }
   },
   "outputs": [
    {
     "data": {
      "text/html": [
       "<div>\n",
       "<style scoped>\n",
       "    .dataframe tbody tr th:only-of-type {\n",
       "        vertical-align: middle;\n",
       "    }\n",
       "\n",
       "    .dataframe tbody tr th {\n",
       "        vertical-align: top;\n",
       "    }\n",
       "\n",
       "    .dataframe thead th {\n",
       "        text-align: right;\n",
       "    }\n",
       "</style>\n",
       "<table border=\"1\" class=\"dataframe\">\n",
       "  <thead>\n",
       "    <tr style=\"text-align: right;\">\n",
       "      <th></th>\n",
       "      <th>smoking_status</th>\n",
       "      <th>smoking_status_mean</th>\n",
       "    </tr>\n",
       "  </thead>\n",
       "  <tbody>\n",
       "    <tr>\n",
       "      <th>0</th>\n",
       "      <td>Unknown</td>\n",
       "      <td>0.031088</td>\n",
       "    </tr>\n",
       "    <tr>\n",
       "      <th>1</th>\n",
       "      <td>formerly smoked</td>\n",
       "      <td>0.087006</td>\n",
       "    </tr>\n",
       "    <tr>\n",
       "      <th>2</th>\n",
       "      <td>never smoked</td>\n",
       "      <td>0.047569</td>\n",
       "    </tr>\n",
       "    <tr>\n",
       "      <th>3</th>\n",
       "      <td>smokes</td>\n",
       "      <td>0.077313</td>\n",
       "    </tr>\n",
       "  </tbody>\n",
       "</table>\n",
       "</div>"
      ],
      "text/plain": [
       "    smoking_status  smoking_status_mean\n",
       "0          Unknown             0.031088\n",
       "1  formerly smoked             0.087006\n",
       "2     never smoked             0.047569\n",
       "3           smokes             0.077313"
      ]
     },
     "execution_count": 24,
     "metadata": {},
     "output_type": "execute_result"
    }
   ],
   "source": [
    "smoking_status = df.groupby('smoking_status', as_index=False).agg({'heart_disease':'mean'}).rename(columns={'heart_disease':'smoking_status_mean'})\n",
    "smoking_status"
   ]
  },
  {
   "cell_type": "markdown",
   "metadata": {
    "execution": {
     "iopub.execute_input": "2021-09-28T07:08:04.230344Z",
     "iopub.status.busy": "2021-09-28T07:08:04.229682Z",
     "iopub.status.idle": "2021-09-28T07:08:04.237433Z",
     "shell.execute_reply": "2021-09-28T07:08:04.236112Z",
     "shell.execute_reply.started": "2021-09-28T07:08:04.230283Z"
    }
   },
   "source": [
    "Средние значения сильно отличаются, возможно, в дальнейшем стоит использовать этот признак для построения новых/"
   ]
  },
  {
   "cell_type": "markdown",
   "metadata": {},
   "source": [
    "__Оценка признака \"avg_glucose_level\" в разрезе целевой переменной__"
   ]
  },
  {
   "cell_type": "code",
   "execution_count": 25,
   "metadata": {
    "execution": {
     "iopub.execute_input": "2021-09-30T09:52:31.367954Z",
     "iopub.status.busy": "2021-09-30T09:52:31.367745Z",
     "iopub.status.idle": "2021-09-30T09:52:31.6342Z",
     "shell.execute_reply": "2021-09-30T09:52:31.633351Z",
     "shell.execute_reply.started": "2021-09-30T09:52:31.36793Z"
    }
   },
   "outputs": [
    {
     "data": {
      "image/png": "[encoded data removed]",
      "text/plain": [
       "<Figure size 720x360 with 1 Axes>"
      ]
     },
     "metadata": {
      "needs_background": "light"
     },
     "output_type": "display_data"
    }
   ],
   "source": [
    "avg_glucose_level_with_target_s = df[['avg_glucose_level', target]].sample(1000)\n",
    "avg_glucose_level_s = avg_glucose_level_with_target_s['avg_glucose_level']\n",
    "avg_glucose_level_target_0 = avg_glucose_level_s[avg_glucose_level_with_target_s[target] == 0]\n",
    "avg_glucose_level_target_1 = avg_glucose_level_s[avg_glucose_level_with_target_s[target] == 1]\n",
    "\n",
    "plt.figure(figsize=(10, 5))\n",
    "\n",
    "sns.kdeplot(avg_glucose_level_target_0, shade=True, label='No stroke', color='g')\n",
    "sns.kdeplot(avg_glucose_level_target_1, shade=True, label='Stroke', color='r')\n",
    "\n",
    "plt.xlabel('avg_glucose_level')\n",
    "plt.title('avg_glucose_level grouped by target variable')\n",
    "plt.show()"
   ]
  },
  {
   "cell_type": "markdown",
   "metadata": {},
   "source": [
    "__Наблюдение__\n",
    "\n",
    "Похоже что две группы, полученные в результате разбиения признака \"avg_glucose_level\" по целевой переменной, имеют различные распределения, что может помочь при построении модели.\n",
    "\n",
    "__Гипотеза__\n",
    "\n",
    "Нулевая гипотеза: средние значения в двух независимых выборках равны\n",
    "\n",
    "Альтернативная гипотеза: средние значения в двух независимых выборках различаются\n",
    "\n",
    "Критерий: критерий Стьюдента (t-тест) и его аналоги\n",
    "\n",
    "Уровень значимости  α : 0.05\n",
    "\n",
    "Критическая область: двухсторонняя\n",
    "\n",
    "Что бы проверить данную гипотезу сравним две выборки из рассматриваемых групп на предмет равенства средних значений. Если вероятность того, что мат. ожидания в исходных группах равны, при данных выборках, буде менее 5%, то можно будет говорить о том, что скорее всего выборки имеют различные распределения"
   ]
  },
  {
   "cell_type": "markdown",
   "metadata": {
    "execution": {
     "iopub.execute_input": "2021-09-28T08:45:24.982001Z",
     "iopub.status.busy": "2021-09-28T08:45:24.981702Z",
     "iopub.status.idle": "2021-09-28T08:45:24.988228Z",
     "shell.execute_reply": "2021-09-28T08:45:24.987345Z",
     "shell.execute_reply.started": "2021-09-28T08:45:24.981973Z"
    }
   },
   "source": [
    "Произведём визуальную оценку распределения признака, а так же построим QQ-график"
   ]
  },
  {
   "cell_type": "code",
   "execution_count": 26,
   "metadata": {
    "execution": {
     "iopub.execute_input": "2021-09-30T09:52:31.63567Z",
     "iopub.status.busy": "2021-09-30T09:52:31.635431Z",
     "iopub.status.idle": "2021-09-30T09:52:32.071524Z",
     "shell.execute_reply": "2021-09-30T09:52:32.070707Z",
     "shell.execute_reply.started": "2021-09-30T09:52:31.635642Z"
    }
   },
   "outputs": [
    {
     "data": {
      "image/png": "[encoded data removed]",
      "text/plain": [
       "<Figure size 1440x576 with 2 Axes>"
      ]
     },
     "metadata": {
      "needs_background": "light"
     },
     "output_type": "display_data"
    }
   ],
   "source": [
    "plt.figure(figsize=(20, 8))\n",
    "\n",
    "ax1 = plt.subplot(121)\n",
    "ax1.set_xlabel('avg_glucose_level')\n",
    "ax1.set_ylabel('Count')\n",
    "ax1.set_title('avg_glucose_level distribution')\n",
    "avg_glucose_level_s.hist()\n",
    "\n",
    "plt.subplot(122)\n",
    "probplot(avg_glucose_level_s, dist='norm', plot=plt)\n",
    "\n",
    "plt.show()"
   ]
  },
  {
   "cell_type": "markdown",
   "metadata": {},
   "source": [
    "Проверка распределения признака на \"нормальность\" с помощью критерия Шапиро-Уилка"
   ]
  },
  {
   "cell_type": "code",
   "execution_count": 27,
   "metadata": {
    "execution": {
     "iopub.execute_input": "2021-09-30T09:52:32.073599Z",
     "iopub.status.busy": "2021-09-30T09:52:32.072733Z",
     "iopub.status.idle": "2021-09-30T09:52:32.080228Z",
     "shell.execute_reply": "2021-09-30T09:52:32.079254Z",
     "shell.execute_reply.started": "2021-09-30T09:52:32.073558Z"
    }
   },
   "outputs": [
    {
     "data": {
      "text/plain": [
       "ShapiroResult(statistic=0.7956070899963379, pvalue=1.18925213466622e-33)"
      ]
     },
     "execution_count": 27,
     "metadata": {},
     "output_type": "execute_result"
    }
   ],
   "source": [
    "shapiro(avg_glucose_level_s)"
   ]
  },
  {
   "cell_type": "markdown",
   "metadata": {},
   "source": [
    "Р-начение сильно меньше ожидаемого уровня и визуальная оценка показывает, что закон распределения отличный от \"нормального\", в связи с чем, мы не сможем воспользоваться критерием Стьюдента для проверки гипотезы о равности мат. ожиданий признака avg_glucose_level. Построим доверительные интервалы для средних значений, каждой из двух групп и сравним их."
   ]
  },
  {
   "cell_type": "code",
   "execution_count": 28,
   "metadata": {
    "execution": {
     "iopub.execute_input": "2021-09-30T09:52:32.081793Z",
     "iopub.status.busy": "2021-09-30T09:52:32.081565Z",
     "iopub.status.idle": "2021-09-30T09:52:32.334982Z",
     "shell.execute_reply": "2021-09-30T09:52:32.334169Z",
     "shell.execute_reply.started": "2021-09-30T09:52:32.081768Z"
    }
   },
   "outputs": [
    {
     "data": {
      "image/png": "[encoded data removed]",
      "text/plain": [
       "<Figure size 576x360 with 1 Axes>"
      ]
     },
     "metadata": {
      "needs_background": "light"
     },
     "output_type": "display_data"
    }
   ],
   "source": [
    "plt.figure(figsize=(8, 5))\n",
    "\n",
    "sns.pointplot(x=target, y='avg_glucose_level', data=avg_glucose_level_with_target_s, capsize=.1)\n",
    "\n",
    "plt.title('Confidence intervals (95 %) for avg_glucose_level')\n",
    "plt.show()"
   ]
  },
  {
   "cell_type": "markdown",
   "metadata": {},
   "source": [
    "Оценим эквивалентность мат. ожиданий с помощью критерия Манна-Уитни"
   ]
  },
  {
   "cell_type": "code",
   "execution_count": 29,
   "metadata": {
    "execution": {
     "iopub.execute_input": "2021-09-30T09:52:32.336841Z",
     "iopub.status.busy": "2021-09-30T09:52:32.336549Z",
     "iopub.status.idle": "2021-09-30T09:52:32.346877Z",
     "shell.execute_reply": "2021-09-30T09:52:32.346105Z",
     "shell.execute_reply.started": "2021-09-30T09:52:32.336803Z"
    }
   },
   "outputs": [
    {
     "data": {
      "text/plain": [
       "MannwhitneyuResult(statistic=19799.0, pvalue=0.0027025805324189965)"
      ]
     },
     "execution_count": 29,
     "metadata": {},
     "output_type": "execute_result"
    }
   ],
   "source": [
    "mannwhitneyu(avg_glucose_level_target_0, avg_glucose_level_target_1)"
   ]
  },
  {
   "cell_type": "markdown",
   "metadata": {},
   "source": [
    "По графику видно, что интервалы, в которых с 95% вероятностью должны находится истинные мат. ожидания этих двух групп, а также согласно значению p-value сильно отличаются.\n",
    "Это означает, что группы из которых взяты данные выборки, с допускаемой нами вероятностью (95%), имеют различные распределения."
   ]
  },
  {
   "cell_type": "markdown",
   "metadata": {
    "execution": {
     "iopub.execute_input": "2021-09-28T13:13:48.40859Z",
     "iopub.status.busy": "2021-09-28T13:13:48.407749Z",
     "iopub.status.idle": "2021-09-28T13:13:48.413969Z",
     "shell.execute_reply": "2021-09-28T13:13:48.412896Z",
     "shell.execute_reply.started": "2021-09-28T13:13:48.408548Z"
    }
   },
   "source": [
    "__Аналогично проверим признак \"bmi\" в разрезе целевой переменной__"
   ]
  },
  {
   "cell_type": "code",
   "execution_count": 30,
   "metadata": {
    "execution": {
     "iopub.execute_input": "2021-09-30T09:52:32.348093Z",
     "iopub.status.busy": "2021-09-30T09:52:32.34788Z",
     "iopub.status.idle": "2021-09-30T09:52:32.589347Z",
     "shell.execute_reply": "2021-09-30T09:52:32.588454Z",
     "shell.execute_reply.started": "2021-09-30T09:52:32.34806Z"
    }
   },
   "outputs": [
    {
     "data": {
      "image/png": "[encoded data removed]",
      "text/plain": [
       "<Figure size 720x360 with 1 Axes>"
      ]
     },
     "metadata": {
      "needs_background": "light"
     },
     "output_type": "display_data"
    }
   ],
   "source": [
    "bmi_with_target_s = df[['bmi', target]].sample(1000)\n",
    "bmi_s = bmi_with_target_s['bmi']\n",
    "bmi_target_0 = bmi_s[bmi_with_target_s[target] == 0]\n",
    "bmi_target_1 = bmi_s[bmi_with_target_s[target] == 1]\n",
    "\n",
    "plt.figure(figsize=(10, 5))\n",
    "\n",
    "sns.kdeplot(bmi_target_0, shade=True, label='No stroke', color='g')\n",
    "sns.kdeplot(bmi_target_1, shade=True, label='Stroke', color='r')\n",
    "\n",
    "plt.xlabel('bmi')\n",
    "plt.title('bmi grouped by target variable')\n",
    "plt.show()"
   ]
  },
  {
   "cell_type": "code",
   "execution_count": 31,
   "metadata": {
    "execution": {
     "iopub.execute_input": "2021-09-30T09:52:32.590771Z",
     "iopub.status.busy": "2021-09-30T09:52:32.590553Z",
     "iopub.status.idle": "2021-09-30T09:52:32.980499Z",
     "shell.execute_reply": "2021-09-30T09:52:32.9797Z",
     "shell.execute_reply.started": "2021-09-30T09:52:32.590745Z"
    }
   },
   "outputs": [
    {
     "data": {
      "image/png": "[encoded data removed]",
      "text/plain": [
       "<Figure size 1440x576 with 2 Axes>"
      ]
     },
     "metadata": {
      "needs_background": "light"
     },
     "output_type": "display_data"
    }
   ],
   "source": [
    "plt.figure(figsize=(20, 8))\n",
    "\n",
    "ax1 = plt.subplot(121)\n",
    "ax1.set_xlabel('bmi')\n",
    "ax1.set_ylabel('Count')\n",
    "ax1.set_title('bmi distribution')\n",
    "bmi_s.hist()\n",
    "\n",
    "plt.subplot(122)\n",
    "probplot(bmi_s, dist='norm', plot=plt)\n",
    "\n",
    "plt.show()"
   ]
  },
  {
   "cell_type": "code",
   "execution_count": 32,
   "metadata": {
    "execution": {
     "iopub.execute_input": "2021-09-30T09:52:32.981781Z",
     "iopub.status.busy": "2021-09-30T09:52:32.981554Z",
     "iopub.status.idle": "2021-09-30T09:52:32.988299Z",
     "shell.execute_reply": "2021-09-30T09:52:32.987305Z",
     "shell.execute_reply.started": "2021-09-30T09:52:32.981757Z"
    }
   },
   "outputs": [
    {
     "data": {
      "text/plain": [
       "ShapiroResult(statistic=0.9736509919166565, pvalue=1.7020083259433605e-12)"
      ]
     },
     "execution_count": 32,
     "metadata": {},
     "output_type": "execute_result"
    }
   ],
   "source": [
    "shapiro(bmi_s)"
   ]
  },
  {
   "cell_type": "markdown",
   "metadata": {},
   "source": [
    "Р-начение сильно меньше ожидаемого уровня и визуальная оценка показывает, что закон распределения отличный от \"нормального\"."
   ]
  },
  {
   "cell_type": "code",
   "execution_count": 33,
   "metadata": {
    "execution": {
     "iopub.execute_input": "2021-09-30T09:52:32.990179Z",
     "iopub.status.busy": "2021-09-30T09:52:32.989828Z",
     "iopub.status.idle": "2021-09-30T09:52:33.245987Z",
     "shell.execute_reply": "2021-09-30T09:52:33.245092Z",
     "shell.execute_reply.started": "2021-09-30T09:52:32.990136Z"
    }
   },
   "outputs": [
    {
     "data": {
      "image/png": "[encoded data removed]",
      "text/plain": [
       "<Figure size 576x360 with 1 Axes>"
      ]
     },
     "metadata": {
      "needs_background": "light"
     },
     "output_type": "display_data"
    }
   ],
   "source": [
    "plt.figure(figsize=(8, 5))\n",
    "\n",
    "sns.pointplot(x=target, y='bmi', data=bmi_with_target_s, capsize=.1)\n",
    "\n",
    "plt.title('Confidence intervals (95 %) for bmi')\n",
    "plt.show()"
   ]
  },
  {
   "cell_type": "code",
   "execution_count": 34,
   "metadata": {
    "execution": {
     "iopub.execute_input": "2021-09-30T09:52:33.24766Z",
     "iopub.status.busy": "2021-09-30T09:52:33.247305Z",
     "iopub.status.idle": "2021-09-30T09:52:33.254812Z",
     "shell.execute_reply": "2021-09-30T09:52:33.253915Z",
     "shell.execute_reply.started": "2021-09-30T09:52:33.247632Z"
    }
   },
   "outputs": [
    {
     "data": {
      "text/plain": [
       "MannwhitneyuResult(statistic=19795.0, pvalue=0.3368674954487688)"
      ]
     },
     "execution_count": 34,
     "metadata": {},
     "output_type": "execute_result"
    }
   ],
   "source": [
    "mannwhitneyu(bmi_target_0, bmi_target_1)"
   ]
  },
  {
   "cell_type": "markdown",
   "metadata": {},
   "source": [
    "По графику видно, что интервалы, в которых с 95% вероятностью должны находится истинные мат. ожидания этих двух групп, а также согласно значению p-value, сходятся.\n",
    "Это означает, что группы, из которых взяты данные выборки, с допускаемой нами вероятностью (95%), имеют одинаковое распределение.\n",
    "\n",
    "В дальнейшем можно будет задуматься об исключении данного признака из выборки."
   ]
  },
  {
   "cell_type": "markdown",
   "metadata": {},
   "source": [
    "__С помощью boxplot посмотрим распределение, медиану, квартили и выбросы по возрасту по признаку bmi.__"
   ]
  },
  {
   "cell_type": "code",
   "execution_count": 35,
   "metadata": {
    "execution": {
     "iopub.execute_input": "2021-09-30T09:52:33.25605Z",
     "iopub.status.busy": "2021-09-30T09:52:33.255838Z",
     "iopub.status.idle": "2021-09-30T09:52:33.503624Z",
     "shell.execute_reply": "2021-09-30T09:52:33.502746Z",
     "shell.execute_reply.started": "2021-09-30T09:52:33.256026Z"
    }
   },
   "outputs": [
    {
     "data": {
      "text/plain": [
       "<AxesSubplot:xlabel='stroke', ylabel='bmi'>"
      ]
     },
     "execution_count": 35,
     "metadata": {},
     "output_type": "execute_result"
    },
    {
     "data": {
      "image/png": "[encoded data removed]",
      "text/plain": [
       "<Figure size 1440x720 with 1 Axes>"
      ]
     },
     "metadata": {
      "needs_background": "light"
     },
     "output_type": "display_data"
    }
   ],
   "source": [
    "plt.figure(figsize=(20, 10))\n",
    "sns.boxplot(data = df, x = 'stroke', y = 'bmi')"
   ]
  },
  {
   "cell_type": "markdown",
   "metadata": {},
   "source": [
    "Из графика видно, что есть выбросы в категории \"0\". Возможно, их следует исключить из выборки."
   ]
  },
  {
   "cell_type": "code",
   "execution_count": 36,
   "metadata": {
    "execution": {
     "iopub.execute_input": "2021-09-30T09:52:33.504833Z",
     "iopub.status.busy": "2021-09-30T09:52:33.504636Z",
     "iopub.status.idle": "2021-09-30T09:52:33.518271Z",
     "shell.execute_reply": "2021-09-30T09:52:33.517268Z",
     "shell.execute_reply.started": "2021-09-30T09:52:33.504809Z"
    }
   },
   "outputs": [
    {
     "name": "stdout",
     "output_type": "stream",
     "text": [
      "<class 'pandas.core.frame.DataFrame'>\n",
      "RangeIndex: 5110 entries, 0 to 5109\n",
      "Data columns (total 12 columns):\n",
      " #   Column             Non-Null Count  Dtype  \n",
      "---  ------             --------------  -----  \n",
      " 0   id                 5110 non-null   int64  \n",
      " 1   gender             5110 non-null   int64  \n",
      " 2   age                5110 non-null   float64\n",
      " 3   hypertension       5110 non-null   int64  \n",
      " 4   heart_disease      5110 non-null   int64  \n",
      " 5   ever_married       5110 non-null   int64  \n",
      " 6   work_type          5110 non-null   int32  \n",
      " 7   Residence_type     5110 non-null   int64  \n",
      " 8   avg_glucose_level  5110 non-null   float64\n",
      " 9   bmi                5110 non-null   float64\n",
      " 10  smoking_status     5110 non-null   object \n",
      " 11  stroke             5110 non-null   int64  \n",
      "dtypes: float64(3), int32(1), int64(7), object(1)\n",
      "memory usage: 459.2+ KB\n"
     ]
    }
   ],
   "source": [
    "df.info()"
   ]
  },
  {
   "cell_type": "markdown",
   "metadata": {},
   "source": [
    "__Создадим модель линейной регрессии для условной целевой переменной \"age\" и признаков \"avg_glucose_level\" и \"bmi\".__"
   ]
  },
  {
   "cell_type": "markdown",
   "metadata": {},
   "source": [
    "Проверим корреляцию признаков к целевой переменной"
   ]
  },
  {
   "cell_type": "code",
   "execution_count": 37,
   "metadata": {
    "execution": {
     "iopub.execute_input": "2021-09-30T09:52:33.519904Z",
     "iopub.status.busy": "2021-09-30T09:52:33.519668Z",
     "iopub.status.idle": "2021-09-30T09:52:33.534846Z",
     "shell.execute_reply": "2021-09-30T09:52:33.533973Z",
     "shell.execute_reply.started": "2021-09-30T09:52:33.519879Z"
    }
   },
   "outputs": [
    {
     "data": {
      "text/html": [
       "<div>\n",
       "<style scoped>\n",
       "    .dataframe tbody tr th:only-of-type {\n",
       "        vertical-align: middle;\n",
       "    }\n",
       "\n",
       "    .dataframe tbody tr th {\n",
       "        vertical-align: top;\n",
       "    }\n",
       "\n",
       "    .dataframe thead th {\n",
       "        text-align: right;\n",
       "    }\n",
       "</style>\n",
       "<table border=\"1\" class=\"dataframe\">\n",
       "  <thead>\n",
       "    <tr style=\"text-align: right;\">\n",
       "      <th></th>\n",
       "      <th>age</th>\n",
       "      <th>bmi</th>\n",
       "    </tr>\n",
       "  </thead>\n",
       "  <tbody>\n",
       "    <tr>\n",
       "      <th>age</th>\n",
       "      <td>1.000000</td>\n",
       "      <td>0.325942</td>\n",
       "    </tr>\n",
       "    <tr>\n",
       "      <th>bmi</th>\n",
       "      <td>0.325942</td>\n",
       "      <td>1.000000</td>\n",
       "    </tr>\n",
       "  </tbody>\n",
       "</table>\n",
       "</div>"
      ],
      "text/plain": [
       "          age       bmi\n",
       "age  1.000000  0.325942\n",
       "bmi  0.325942  1.000000"
      ]
     },
     "execution_count": 37,
     "metadata": {},
     "output_type": "execute_result"
    }
   ],
   "source": [
    "corr_matrix_for_age_bmi = df.loc[:, ['age', 'bmi']].corr()\n",
    "corr_matrix_for_age_bmi"
   ]
  },
  {
   "cell_type": "code",
   "execution_count": 38,
   "metadata": {
    "execution": {
     "iopub.execute_input": "2021-09-30T09:52:33.538063Z",
     "iopub.status.busy": "2021-09-30T09:52:33.53783Z",
     "iopub.status.idle": "2021-09-30T09:52:33.548833Z",
     "shell.execute_reply": "2021-09-30T09:52:33.548273Z",
     "shell.execute_reply.started": "2021-09-30T09:52:33.538034Z"
    }
   },
   "outputs": [
    {
     "data": {
      "text/html": [
       "<div>\n",
       "<style scoped>\n",
       "    .dataframe tbody tr th:only-of-type {\n",
       "        vertical-align: middle;\n",
       "    }\n",
       "\n",
       "    .dataframe tbody tr th {\n",
       "        vertical-align: top;\n",
       "    }\n",
       "\n",
       "    .dataframe thead th {\n",
       "        text-align: right;\n",
       "    }\n",
       "</style>\n",
       "<table border=\"1\" class=\"dataframe\">\n",
       "  <thead>\n",
       "    <tr style=\"text-align: right;\">\n",
       "      <th></th>\n",
       "      <th>age</th>\n",
       "      <th>avg_glucose_level</th>\n",
       "    </tr>\n",
       "  </thead>\n",
       "  <tbody>\n",
       "    <tr>\n",
       "      <th>age</th>\n",
       "      <td>1.000000</td>\n",
       "      <td>0.238171</td>\n",
       "    </tr>\n",
       "    <tr>\n",
       "      <th>avg_glucose_level</th>\n",
       "      <td>0.238171</td>\n",
       "      <td>1.000000</td>\n",
       "    </tr>\n",
       "  </tbody>\n",
       "</table>\n",
       "</div>"
      ],
      "text/plain": [
       "                        age  avg_glucose_level\n",
       "age                1.000000           0.238171\n",
       "avg_glucose_level  0.238171           1.000000"
      ]
     },
     "execution_count": 38,
     "metadata": {},
     "output_type": "execute_result"
    }
   ],
   "source": [
    "corr_matrix_for_age_bmi = df.loc[:, ['age', 'avg_glucose_level']].corr()\n",
    "corr_matrix_for_age_bmi"
   ]
  },
  {
   "cell_type": "code",
   "execution_count": 39,
   "metadata": {
    "execution": {
     "iopub.execute_input": "2021-09-30T09:52:33.550236Z",
     "iopub.status.busy": "2021-09-30T09:52:33.549991Z",
     "iopub.status.idle": "2021-09-30T09:52:34.048183Z",
     "shell.execute_reply": "2021-09-30T09:52:34.04727Z",
     "shell.execute_reply.started": "2021-09-30T09:52:33.550209Z"
    }
   },
   "outputs": [
    {
     "data": {
      "image/png": "[encoded data removed]",
      "text/plain": [
       "<Figure size 360x360 with 1 Axes>"
      ]
     },
     "metadata": {
      "needs_background": "light"
     },
     "output_type": "display_data"
    }
   ],
   "source": [
    "sns.relplot(x=\"age\", y=\"bmi\", data=df);"
   ]
  },
  {
   "cell_type": "code",
   "execution_count": 40,
   "metadata": {
    "execution": {
     "iopub.execute_input": "2021-09-30T09:52:34.050485Z",
     "iopub.status.busy": "2021-09-30T09:52:34.04971Z",
     "iopub.status.idle": "2021-09-30T09:52:34.394767Z",
     "shell.execute_reply": "2021-09-30T09:52:34.393774Z",
     "shell.execute_reply.started": "2021-09-30T09:52:34.050439Z"
    }
   },
   "outputs": [
    {
     "data": {
      "image/png": "[encoded data removed]",
      "text/plain": [
       "<Figure size 360x360 with 1 Axes>"
      ]
     },
     "metadata": {
      "needs_background": "light"
     },
     "output_type": "display_data"
    }
   ],
   "source": [
    "sns.relplot(x=\"age\", y=\"avg_glucose_level\", data=df);"
   ]
  },
  {
   "cell_type": "markdown",
   "metadata": {},
   "source": [
    "Есть небольшая связь между ними. Создадим модель линейной регрессии."
   ]
  },
  {
   "cell_type": "code",
   "execution_count": 41,
   "metadata": {
    "execution": {
     "iopub.execute_input": "2021-09-30T09:52:34.396158Z",
     "iopub.status.busy": "2021-09-30T09:52:34.395905Z",
     "iopub.status.idle": "2021-09-30T09:52:34.401191Z",
     "shell.execute_reply": "2021-09-30T09:52:34.400633Z",
     "shell.execute_reply.started": "2021-09-30T09:52:34.396127Z"
    }
   },
   "outputs": [],
   "source": [
    "x = df[['avg_glucose_level', 'bmi']].values\n",
    "y = df['age'].values"
   ]
  },
  {
   "cell_type": "markdown",
   "metadata": {},
   "source": [
    "К матрице $X$ (массив `x`) добавим столбец из $1$, соответствующий фиктивному фактору."
   ]
  },
  {
   "cell_type": "code",
   "execution_count": 42,
   "metadata": {
    "execution": {
     "iopub.execute_input": "2021-09-30T09:52:34.402605Z",
     "iopub.status.busy": "2021-09-30T09:52:34.402053Z",
     "iopub.status.idle": "2021-09-30T09:52:34.414988Z",
     "shell.execute_reply": "2021-09-30T09:52:34.414252Z",
     "shell.execute_reply.started": "2021-09-30T09:52:34.402573Z"
    }
   },
   "outputs": [
    {
     "data": {
      "text/plain": [
       "((5110, 3), (5110,))"
      ]
     },
     "execution_count": 42,
     "metadata": {},
     "output_type": "execute_result"
    }
   ],
   "source": [
    "ones = np.ones((x.shape[0], 1))\n",
    "x = np.hstack((ones, x))\n",
    "x.shape, y.shape"
   ]
  },
  {
   "cell_type": "markdown",
   "metadata": {},
   "source": [
    "Запишем матрицу $X^\\top X$ и посчитаем её определитель."
   ]
  },
  {
   "cell_type": "code",
   "execution_count": 43,
   "metadata": {
    "execution": {
     "iopub.execute_input": "2021-09-30T09:52:34.41621Z",
     "iopub.status.busy": "2021-09-30T09:52:34.415982Z",
     "iopub.status.idle": "2021-09-30T09:52:34.427754Z",
     "shell.execute_reply": "2021-09-30T09:52:34.426699Z",
     "shell.execute_reply.started": "2021-09-30T09:52:34.416185Z"
    }
   },
   "outputs": [
    {
     "data": {
      "text/plain": [
       "1.5746525306913202e+16"
      ]
     },
     "execution_count": 43,
     "metadata": {},
     "output_type": "execute_result"
    }
   ],
   "source": [
    "XTX = x.T.dot(x)\n",
    "np.linalg.det(XTX)"
   ]
  },
  {
   "cell_type": "code",
   "execution_count": 44,
   "metadata": {
    "execution": {
     "iopub.execute_input": "2021-09-30T09:52:34.430002Z",
     "iopub.status.busy": "2021-09-30T09:52:34.429698Z",
     "iopub.status.idle": "2021-09-30T09:52:34.441237Z",
     "shell.execute_reply": "2021-09-30T09:52:34.440058Z",
     "shell.execute_reply.started": "2021-09-30T09:52:34.429963Z"
    }
   },
   "outputs": [
    {
     "name": "stdout",
     "output_type": "stream",
     "text": [
      "[8.26975641 0.09414713 0.86398624]\n"
     ]
    }
   ],
   "source": [
    "XTX_inv = np.linalg.inv(XTX)\n",
    "b = XTX_inv.dot(x.T).dot(y)\n",
    "print(b)"
   ]
  },
  {
   "cell_type": "markdown",
   "metadata": {},
   "source": [
    "Модель регрессии имеет вид:\n",
    "$$y = 8.26 + 0.9 \\cdot x_1 + 0.864 \\cdot x_2$$\n",
    "где $x_1$ — показатель уровня сахара, $x_2$ — индекс массы тела."
   ]
  },
  {
   "cell_type": "markdown",
   "metadata": {},
   "source": [
    "__Проверим коэффициенты с помошью sklearn.LinearRegression:__"
   ]
  },
  {
   "cell_type": "code",
   "execution_count": 45,
   "metadata": {
    "execution": {
     "iopub.execute_input": "2021-09-30T09:52:34.443616Z",
     "iopub.status.busy": "2021-09-30T09:52:34.442819Z",
     "iopub.status.idle": "2021-09-30T09:52:34.461259Z",
     "shell.execute_reply": "2021-09-30T09:52:34.460335Z",
     "shell.execute_reply.started": "2021-09-30T09:52:34.443566Z"
    }
   },
   "outputs": [
    {
     "name": "stdout",
     "output_type": "stream",
     "text": [
      "<class 'sklearn.linear_model._base.LinearRegression'>\n"
     ]
    },
    {
     "data": {
      "text/plain": [
       "(8.269756409630197, array([0.        , 0.09414713, 0.86398624]))"
      ]
     },
     "execution_count": 45,
     "metadata": {},
     "output_type": "execute_result"
    }
   ],
   "source": [
    "from sklearn.linear_model import LinearRegression\n",
    "model2 = LinearRegression().fit(x, y)\n",
    "print(type(model2))\n",
    "model2.intercept_, model2.coef_"
   ]
  },
  {
   "cell_type": "markdown",
   "metadata": {},
   "source": [
    "Посчитаем коэффициент детерминации для модели:"
   ]
  },
  {
   "cell_type": "code",
   "execution_count": 46,
   "metadata": {
    "execution": {
     "iopub.execute_input": "2021-09-30T09:52:34.463577Z",
     "iopub.status.busy": "2021-09-30T09:52:34.462914Z",
     "iopub.status.idle": "2021-09-30T09:52:34.473473Z",
     "shell.execute_reply": "2021-09-30T09:52:34.472309Z",
     "shell.execute_reply.started": "2021-09-30T09:52:34.463523Z"
    }
   },
   "outputs": [
    {
     "data": {
      "text/plain": [
       "0.14077239094179206"
      ]
     },
     "execution_count": 46,
     "metadata": {},
     "output_type": "execute_result"
    }
   ],
   "source": [
    "z = x.dot(b)\n",
    "R = 1 - ((y - z)**2).sum() / ((y - y.mean()) ** 2).sum()\n",
    "R"
   ]
  },
  {
   "cell_type": "markdown",
   "metadata": {},
   "source": [
    "Коэффициент детерминации оказался низок. Признаки объясняют лишь малый процент дисперсии переменной."
   ]
  },
  {
   "cell_type": "markdown",
   "metadata": {},
   "source": [
    "__Проведем F-тест Фишера:__"
   ]
  },
  {
   "cell_type": "code",
   "execution_count": 47,
   "metadata": {
    "execution": {
     "iopub.execute_input": "2021-09-30T09:52:34.476965Z",
     "iopub.status.busy": "2021-09-30T09:52:34.475139Z",
     "iopub.status.idle": "2021-09-30T09:52:34.494261Z",
     "shell.execute_reply": "2021-09-30T09:52:34.49344Z",
     "shell.execute_reply.started": "2021-09-30T09:52:34.476913Z"
    }
   },
   "outputs": [
    {
     "data": {
      "text/plain": [
       "2.9974902376133303"
      ]
     },
     "execution_count": 47,
     "metadata": {},
     "output_type": "execute_result"
    }
   ],
   "source": [
    "n = x.shape[0]\n",
    "m = x.shape[1]  - 1\n",
    "\n",
    "k1 = m\n",
    "k2 = n - m - 1\n",
    "\n",
    "alpha = 0.05\n",
    "\n",
    "t = stats.f.ppf(1 - alpha, k1, k2)\n",
    "t"
   ]
  },
  {
   "cell_type": "markdown",
   "metadata": {},
   "source": [
    "Критическая область:\n",
    "$$\\Omega_\\alpha = \\left( 3.00, \\infty \\right)$$"
   ]
  },
  {
   "cell_type": "code",
   "execution_count": 48,
   "metadata": {
    "execution": {
     "iopub.execute_input": "2021-09-30T09:52:34.496135Z",
     "iopub.status.busy": "2021-09-30T09:52:34.495632Z",
     "iopub.status.idle": "2021-09-30T09:52:34.508136Z",
     "shell.execute_reply": "2021-09-30T09:52:34.507077Z",
     "shell.execute_reply.started": "2021-09-30T09:52:34.496094Z"
    }
   },
   "outputs": [
    {
     "data": {
      "text/plain": [
       "418.3551558170594"
      ]
     },
     "execution_count": 48,
     "metadata": {},
     "output_type": "execute_result"
    }
   ],
   "source": [
    "F = (R / k1) / ((1 - R) / k2)\n",
    "F"
   ]
  },
  {
   "cell_type": "markdown",
   "metadata": {},
   "source": [
    "Статистика попала в критическую область, уравнение регрессии признаётся значимым."
   ]
  },
  {
   "cell_type": "code",
   "execution_count": null,
   "metadata": {},
   "outputs": [],
   "source": []
  },
  {
   "cell_type": "code",
   "execution_count": null,
   "metadata": {},
   "outputs": [],
   "source": []
  },
  {
   "cell_type": "code",
   "execution_count": null,
   "metadata": {},
   "outputs": [],
   "source": []
  },
  {
   "cell_type": "code",
   "execution_count": null,
   "metadata": {},
   "outputs": [],
   "source": []
  }
 ],
 "metadata": {
  "kernelspec": {
   "display_name": "Python 3",
   "language": "python",
   "name": "python3"
  },
  "language_info": {
   "codemirror_mode": {
    "name": "ipython",
    "version": 3
   },
   "file_extension": ".py",
   "mimetype": "text/x-python",
   "name": "python",
   "nbconvert_exporter": "python",
   "pygments_lexer": "ipython3",
   "version": "3.9.0"
  }
 },
 "nbformat": 4,
 "nbformat_minor": 4
}
