{
 "cells": [
  {
   "cell_type": "code",
   "execution_count": 30,
   "id": "4b05a6c8",
   "metadata": {},
   "outputs": [],
   "source": [
    "import numpy as np\n",
    "import pandas as pd\n",
    "import matplotlib.pyplot as plt\n",
    "import warnings\n",
    "import seaborn as sns\n",
    "warnings.filterwarnings('ignore')"
   ]
  },
  {
   "cell_type": "markdown",
   "id": "0de690d7",
   "metadata": {},
   "source": [
    "__Задача 1__\n",
    "\n",
    "Даны значения зарплат из выборки выпускников:\n",
    "\n",
    "100, 80, 75, 77, 89, 33, 45, 25, 65, 17, 30, 24, 57, 55, 70, 75, 65, 84, 90, 150.\n",
    "\n",
    "Без использования статистических функций вроде mean, std, var, посчитать среднее арифметическое, среднее квадратичное отклонение, смещенную и несмещенную оценки дисперсий для данной выборки.\n",
    "\n",
    "Можно затем посчитать те же значения с использованием статистических функций, чтобы проверить себя."
   ]
  },
  {
   "cell_type": "code",
   "execution_count": 20,
   "id": "ea2d19a0",
   "metadata": {},
   "outputs": [],
   "source": [
    "df = pd.DataFrame({'my_list':[100, 80, 75, 77, 89, 33, 45, 25, 65, 17, 30, 24, 57, 55, 70, 75, 65, 84, 90, 150]})"
   ]
  },
  {
   "cell_type": "code",
   "execution_count": 21,
   "id": "644c05f1",
   "metadata": {},
   "outputs": [
    {
     "data": {
      "text/plain": [
       "65.3"
      ]
     },
     "execution_count": 21,
     "metadata": {},
     "output_type": "execute_result"
    }
   ],
   "source": [
    "df_mean = df['my_list'].sum() / df['my_list'].count()\n",
    "df_mean"
   ]
  },
  {
   "cell_type": "code",
   "execution_count": 26,
   "id": "28e878e7",
   "metadata": {},
   "outputs": [
    {
     "data": {
      "text/plain": [
       "30.823854398825596"
      ]
     },
     "execution_count": 26,
     "metadata": {},
     "output_type": "execute_result"
    }
   ],
   "source": [
    "df_std = np.sqrt(((df['my_list'] - df_mean) ** 2).sum() / df['my_list'].count())\n",
    "df_std"
   ]
  },
  {
   "cell_type": "code",
   "execution_count": 28,
   "id": "6b982f7c",
   "metadata": {},
   "outputs": [
    {
     "data": {
      "text/plain": [
       "950.11"
      ]
     },
     "execution_count": 28,
     "metadata": {},
     "output_type": "execute_result"
    }
   ],
   "source": [
    "df_variance = ((df['my_list'] - df_mean) ** 2).sum() / df['my_list'].count()\n",
    "df_variance"
   ]
  },
  {
   "cell_type": "code",
   "execution_count": 29,
   "id": "6e7cfb2f",
   "metadata": {},
   "outputs": [
    {
     "data": {
      "text/plain": [
       "1000.1157894736842"
      ]
     },
     "execution_count": 29,
     "metadata": {},
     "output_type": "execute_result"
    }
   ],
   "source": [
    "df_variance = ((df['my_list'] - df_mean) ** 2).sum() / (df['my_list'].count() - 1)\n",
    "df_variance"
   ]
  },
  {
   "cell_type": "code",
   "execution_count": null,
   "id": "fc737bd3",
   "metadata": {},
   "outputs": [],
   "source": []
  },
  {
   "cell_type": "markdown",
   "id": "32e97734",
   "metadata": {},
   "source": [
    "__Задача 2__\n",
    "\n",
    "Для выборки из задачи 1 найти первый и третий квартили, интерквартильное расстояние. Найти выборсы в выборке, используя для этого \"усы\" из boxplot. В этой задаче можно использовать статистические функции"
   ]
  },
  {
   "cell_type": "code",
   "execution_count": null,
   "id": "bb50a4aa",
   "metadata": {},
   "outputs": [],
   "source": []
  },
  {
   "cell_type": "code",
   "execution_count": 39,
   "id": "ca1c25ac",
   "metadata": {},
   "outputs": [
    {
     "data": {
      "image/png": "[encoded data removed]",
      "text/plain": [
       "<Figure size 1080x360 with 1 Axes>"
      ]
     },
     "metadata": {},
     "output_type": "display_data"
    }
   ],
   "source": [
    "sns.boxplot(df['my_list'], orient='v')\n",
    "sns.set(rc={'figure.figsize':(5,20)})\n",
    "plt.show()"
   ]
  },
  {
   "cell_type": "code",
   "execution_count": 41,
   "id": "94d5c657",
   "metadata": {},
   "outputs": [
    {
     "data": {
      "text/plain": [
       "42.0"
      ]
     },
     "execution_count": 41,
     "metadata": {},
     "output_type": "execute_result"
    }
   ],
   "source": [
    "first_quantile = df['my_list'].quantile(0.25)\n",
    "first_quantile"
   ]
  },
  {
   "cell_type": "code",
   "execution_count": 42,
   "id": "58b202c2",
   "metadata": {},
   "outputs": [
    {
     "data": {
      "text/plain": [
       "81.0"
      ]
     },
     "execution_count": 42,
     "metadata": {},
     "output_type": "execute_result"
    }
   ],
   "source": [
    "third_quantile = df['my_list'].quantile(0.75)\n",
    "third_quantile"
   ]
  },
  {
   "cell_type": "code",
   "execution_count": 44,
   "id": "9c766b88",
   "metadata": {},
   "outputs": [
    {
     "data": {
      "text/plain": [
       "39.0"
      ]
     },
     "execution_count": 44,
     "metadata": {},
     "output_type": "execute_result"
    }
   ],
   "source": [
    "inter_quantile = third_quantile - first_quantile\n",
    "inter_quantile"
   ]
  },
  {
   "cell_type": "code",
   "execution_count": 47,
   "id": "f77c6e36",
   "metadata": {},
   "outputs": [
    {
     "data": {
      "text/html": [
       "<div>\n",
       "<style scoped>\n",
       "    .dataframe tbody tr th:only-of-type {\n",
       "        vertical-align: middle;\n",
       "    }\n",
       "\n",
       "    .dataframe tbody tr th {\n",
       "        vertical-align: top;\n",
       "    }\n",
       "\n",
       "    .dataframe thead th {\n",
       "        text-align: right;\n",
       "    }\n",
       "</style>\n",
       "<table border=\"1\" class=\"dataframe\">\n",
       "  <thead>\n",
       "    <tr style=\"text-align: right;\">\n",
       "      <th></th>\n",
       "      <th>my_list</th>\n",
       "    </tr>\n",
       "  </thead>\n",
       "  <tbody>\n",
       "    <tr>\n",
       "      <th>0</th>\n",
       "      <td>100</td>\n",
       "    </tr>\n",
       "    <tr>\n",
       "      <th>4</th>\n",
       "      <td>89</td>\n",
       "    </tr>\n",
       "    <tr>\n",
       "      <th>17</th>\n",
       "      <td>84</td>\n",
       "    </tr>\n",
       "    <tr>\n",
       "      <th>18</th>\n",
       "      <td>90</td>\n",
       "    </tr>\n",
       "    <tr>\n",
       "      <th>19</th>\n",
       "      <td>150</td>\n",
       "    </tr>\n",
       "  </tbody>\n",
       "</table>\n",
       "</div>"
      ],
      "text/plain": [
       "    my_list\n",
       "0       100\n",
       "4        89\n",
       "17       84\n",
       "18       90\n",
       "19      150"
      ]
     },
     "execution_count": 47,
     "metadata": {},
     "output_type": "execute_result"
    }
   ],
   "source": [
    "blowout = df[df['my_list'] > df['my_list'].quantile(0.75)]\n",
    "blowout"
   ]
  },
  {
   "cell_type": "code",
   "execution_count": null,
   "id": "7487d18e",
   "metadata": {},
   "outputs": [],
   "source": []
  },
  {
   "cell_type": "markdown",
   "id": "8701abca",
   "metadata": {},
   "source": [
    "__Задача 3__\n",
    "\n",
    "В университет на факультеты A и B поступило равное количество студентов, а на факультет C студентов поступило столько же, сколько на A и B вместе. Вероятность того, что студент факультета A сдаст первую сессию, равна 0.8. Для студента факультета B эта вероятность равна 0.7, а для студента факультета C - 0.9. Студент сдал первую сессию. Какова вероятность, что он учится: a) на факультете A? б) на факультете B? в) на факультете C?"
   ]
  },
  {
   "cell_type": "markdown",
   "id": "1fa9e441",
   "metadata": {},
   "source": [
    "Обозначим:\n",
    "D - студент сдал сессию,\n",
    "E1 - сдал студент из факультета А\n",
    "E2 - сдал студент из факультета В\n",
    "E2 - сдал студент из факультета С\n"
   ]
  },
  {
   "cell_type": "markdown",
   "id": "964a3bab",
   "metadata": {},
   "source": [
    "Вероятность, что сдал студент из факультетов A, B, C соответственно:\n",
    "    P(E1) = 0.25\n",
    "    P(E2) = 0.25\n",
    "    P(E3) = 0.50\n",
    "Тогда, вероятность, что студент сдаст сессию равна:"
   ]
  },
  {
   "cell_type": "markdown",
   "id": "0de1d22c",
   "metadata": {},
   "source": [
    "$$P(A) = P(E_1) \\cdot P(D\\:|\\:E_1) + P(E_2) \\cdot P(D\\:|\\:E_2) + P(E_3) \\cdot P(D\\:|\\:E_3)$$"
   ]
  },
  {
   "cell_type": "code",
   "execution_count": 53,
   "id": "5e3f72db",
   "metadata": {},
   "outputs": [
    {
     "data": {
      "text/plain": [
       "0.825"
      ]
     },
     "execution_count": 53,
     "metadata": {},
     "output_type": "execute_result"
    }
   ],
   "source": [
    "𝑃_D = 0.25 * 0.8 + 0.25 * 0.7 + 0.50 * 0.9\n",
    "𝑃_D"
   ]
  },
  {
   "cell_type": "markdown",
   "id": "5f2945e0",
   "metadata": {},
   "source": [
    "Вероятность, что сдаст из факультета А:"
   ]
  },
  {
   "cell_type": "code",
   "execution_count": 55,
   "id": "7fecaa7e",
   "metadata": {},
   "outputs": [
    {
     "data": {
      "text/plain": [
       "0.24242424242424246"
      ]
     },
     "execution_count": 55,
     "metadata": {},
     "output_type": "execute_result"
    }
   ],
   "source": [
    "P_E1 = 0.25 * 0.8 / 𝑃_D\n",
    "P_E1"
   ]
  },
  {
   "cell_type": "markdown",
   "id": "e0004f87",
   "metadata": {},
   "source": [
    "Вероятность, что сдаст из факультета В:"
   ]
  },
  {
   "cell_type": "code",
   "execution_count": 56,
   "id": "b04abba0",
   "metadata": {},
   "outputs": [
    {
     "data": {
      "text/plain": [
       "0.21212121212121213"
      ]
     },
     "execution_count": 56,
     "metadata": {},
     "output_type": "execute_result"
    }
   ],
   "source": [
    "P_E2 = 0.25 * 0.7 / 𝑃_D\n",
    "P_E2"
   ]
  },
  {
   "cell_type": "markdown",
   "id": "d233f9e5",
   "metadata": {},
   "source": [
    "Вероятность, что сдаст из факультета С:"
   ]
  },
  {
   "cell_type": "code",
   "execution_count": 57,
   "id": "aea0e303",
   "metadata": {},
   "outputs": [
    {
     "data": {
      "text/plain": [
       "0.5454545454545455"
      ]
     },
     "execution_count": 57,
     "metadata": {},
     "output_type": "execute_result"
    }
   ],
   "source": [
    "P_E3 = 0.50 * 0.9 / 𝑃_D\n",
    "P_E3"
   ]
  },
  {
   "cell_type": "code",
   "execution_count": null,
   "id": "3d947b6b",
   "metadata": {},
   "outputs": [],
   "source": []
  }
 ],
 "metadata": {
  "kernelspec": {
   "display_name": "Python 3",
   "language": "python",
   "name": "python3"
  },
  "language_info": {
   "codemirror_mode": {
    "name": "ipython",
    "version": 3
   },
   "file_extension": ".py",
   "mimetype": "text/x-python",
   "name": "python",
   "nbconvert_exporter": "python",
   "pygments_lexer": "ipython3",
   "version": "3.9.0"
  }
 },
 "nbformat": 4,
 "nbformat_minor": 5
}
