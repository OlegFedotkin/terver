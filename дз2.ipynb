{
 "cells": [
  {
   "cell_type": "code",
   "execution_count": 1,
   "metadata": {
    "collapsed": false
   },
   "outputs": [
   ],
   "source": [
    "import numpy as np"
   ]
  },
  {
   "cell_type": "code",
   "execution_count": 0,
   "metadata": {
    "collapsed": false
   },
   "outputs": [
   ],
   "source": [
   ]
  },
  {
   "cell_type": "markdown",
   "metadata": {
    "collapsed": false
   },
   "source": [
    "__Задача1__"
   ]
  },
  {
   "cell_type": "markdown",
   "metadata": {
    "collapsed": false
   },
   "source": [
    "Контрольная работа состоит из пяти вопросов. На каждый вопрос приведено четыре варианта ответа, один из которых правильный. Составьте закон распределения числа правильных ответов при простом угадывании. Найдите `M(X)`, `D(X)`."
   ]
  },
  {
   "cell_type": "markdown",
   "metadata": {
    "collapsed": false
   },
   "source": [
    "$$P(X = 0) = C_n^k p^k (1 - p)^{n - k} = C_5^0 \\cdot 0.25^0 \\cdot 0.75^5 = \\frac{5!}{0! \\: (5-0)!} \\cdot 0.25^0 \\cdot 0.75^5 = 0.2373.$$\n",
    "\n",
    "$$P(X = 1) = C_5^1 \\cdot 0.25^1 \\cdot 0.75^4 = \\frac{5!}{1! \\: (5-1)!} \\cdot 0.25^1 \\cdot 0.75^4 = 0.3955.$$\n",
    "\n",
    "$$P(X = 2) = C_5^2 \\cdot 0.25^2 \\cdot 0.75^3 = \\frac{5!}{2! \\: (5-2)!} \\cdot 0.25^2 \\cdot 0.75^3 = 0.2637.$$\n",
    "\n",
    "$$P(X = 3) = C_5^3 \\cdot 0.25^3 \\cdot 0.75^2 = \\frac{5!}{3! \\: (5-3)!} \\cdot 0.25^3 \\cdot 0.75^2 = 0.0879.$$\n",
    "\n",
    "$$P(X = 4) = C_5^4 \\cdot 0.25^4 \\cdot 0.75^1 = \\frac{5!}{4! \\: (5-4)!} \\cdot 0.25^4 \\cdot 0.75^1 = 0.0146.$$\n",
    "\n",
    "$$P(X = 5) = C_5^5 \\cdot 0.25^5 \\cdot 0.75^0 = \\frac{5!}{5! \\: (5-5)!} \\cdot 0.25^5 \\cdot 0.75^0 = 0.0010.$$\n",
    "\n",
    "Закон распределения:\n",
    "\n",
    "<table border=\"3\">\n",
    "    <tr>\n",
    "        <th>$x$</th>\n",
    "        <td>0</td>\n",
    "        <td>1</td>\n",
    "        <td>2</td>\n",
    "        <td>3</td>\n",
    "        <td>4</td>\n",
    "        <td>5</td>\n",
    "    </tr>\n",
    "    <tr>\n",
    "        <th>$P(X = x)$</th>\n",
    "        <td>0.2373</td>\n",
    "        <td>0.3955</td>\n",
    "        <td>0.2637</td>\n",
    "        <td>0.0879</td>\n",
    "        <td>0.0146</td>\n",
    "        <td>0.0010</td>\n",
    "    </tr>\n",
    "</table>"
   ]
  },
  {
   "cell_type": "markdown",
   "metadata": {
    "collapsed": false
   },
   "source": [
    "Математическое ожидание: M(X) = np\n",
    "\n"
   ]
  },
  {
   "cell_type": "code",
   "execution_count": 5,
   "metadata": {
    "collapsed": false
   },
   "outputs": [
    {
     "name": "stdout",
     "output_type": "stream",
     "text": [
      "[0 1 2 3 4 5]\n"
     ]
    }
   ],
   "source": [
    "x_values = np.array([0, 1, 2, 3, 4, 5])\n",
    "\n",
    "print(x_values)"
   ]
  },
  {
   "cell_type": "code",
   "execution_count": 8,
   "metadata": {
    "collapsed": false
   },
   "outputs": [
    {
     "name": "stdout",
     "output_type": "stream",
     "text": [
      "[0.2373 0.3955 0.2637 0.0879 0.0146 0.001 ]\n"
     ]
    }
   ],
   "source": [
    "x_probabilities = np.array([0.2373, 0.3955, 0.2637, 0.0879, 0.0146, 0.0010])\n",
    "print(x_probabilities)"
   ]
  },
  {
   "cell_type": "code",
   "execution_count": 25,
   "metadata": {
    "collapsed": false
   },
   "outputs": [
    {
     "name": "stdout",
     "output_type": "stream",
     "text": [
      "1.25\n"
     ]
    }
   ],
   "source": [
    "m = np.dot(x_values, x_probabilities)\n",
    "print(m)"
   ]
  },
  {
   "cell_type": "code",
   "execution_count": 27,
   "metadata": {
    "collapsed": false
   },
   "outputs": [
    {
     "name": "stdout",
     "output_type": "stream",
     "text": [
      "[ 1.5625  0.0625  0.5625  3.0625  7.5625 14.0625]\n"
     ]
    }
   ],
   "source": [
    "y_values = (x_values - m)**2\n",
    "print(y_values)"
   ]
  },
  {
   "cell_type": "code",
   "execution_count": 28,
   "metadata": {
    "collapsed": false
   },
   "outputs": [
    {
     "name": "stdout",
     "output_type": "stream",
     "text": [
      "0.9375\n"
     ]
    }
   ],
   "source": [
    "d = np.dot(y_values, x_probabilities)\n",
    "print(d)\n"
   ]
  },
  {
   "cell_type": "markdown",
   "metadata": {
    "collapsed": false
   },
   "source": [
    "__Ответ:__ \n",
    "$$Закон  распределения:$$\n",
    "\n",
    "<table border=\"3\">\n",
    "    <tr>\n",
    "        <th>$x$</th>\n",
    "        <td>0</td>\n",
    "        <td>1</td>\n",
    "        <td>2</td>\n",
    "        <td>3</td>\n",
    "        <td>4</td>\n",
    "        <td>5</td>\n",
    "    </tr>\n",
    "    <tr>\n",
    "        <th>$P(X = x)$</th>\n",
    "        <td>0.2373</td>\n",
    "        <td>0.3955</td>\n",
    "        <td>0.2637</td>\n",
    "        <td>0.0879</td>\n",
    "        <td>0.0146</td>\n",
    "        <td>0.0010</td>\n",
    "    </tr>\n",
    "</table>\n",
    "\n",
    "$$Математическое ожидание: М(X) = 1,25$$\n",
    "$$Дисперсия: D(X) = 0.9375$$"
   ]
  },
  {
   "cell_type": "code",
   "execution_count": 0,
   "metadata": {
    "collapsed": false
   },
   "outputs": [
   ],
   "source": [
   ]
  },
  {
   "cell_type": "code",
   "execution_count": 0,
   "metadata": {
    "collapsed": false
   },
   "outputs": [
   ],
   "source": [
   ]
  },
  {
   "cell_type": "markdown",
   "metadata": {
    "collapsed": false
   },
   "source": [
    "__Задача2__"
   ]
  },
  {
   "cell_type": "markdown",
   "metadata": {
    "collapsed": false
   },
   "source": [
    "Вероятность поймать рыбу при одном забрасывании удочки равна 0.01. Какова вероятность того, что число пойманных рыб при 200 забросах удочки будет не менее 5 и не более 10?"
   ]
  },
  {
   "cell_type": "code",
   "execution_count": 30,
   "metadata": {
    "collapsed": false
   },
   "outputs": [
   ],
   "source": [
    "p = 0.01\n",
    "n = 200"
   ]
  },
  {
   "cell_type": "code",
   "execution_count": 32,
   "metadata": {
    "collapsed": false
   },
   "outputs": [
    {
     "data": {
      "text/plain": [
       "2.0"
      ]
     },
     "execution_count": 32,
     "metadata": {
     },
     "output_type": "execute_result"
    }
   ],
   "source": [
    "lambda_ = p * n\n",
    "lambda_"
   ]
  },
  {
   "cell_type": "code",
   "execution_count": 2,
   "metadata": {
    "collapsed": false
   },
   "outputs": [
   ],
   "source": [
    "def poisson_proba(k, lambda_):\n",
    "    return (lambda_ ** k) * (np.exp(-lambda_)) / np.math.factorial(k)"
   ]
  },
  {
   "cell_type": "markdown",
   "metadata": {
    "collapsed": false
   },
   "source": [
    "Вероятность поимки от 5 до 10 рыб равна сумме вероятностей поимки каждого количества рыб"
   ]
  },
  {
   "cell_type": "code",
   "execution_count": 35,
   "metadata": {
    "collapsed": false
   },
   "outputs": [
    {
     "data": {
      "text/plain": [
       "0.052644709119342686"
      ]
     },
     "execution_count": 35,
     "metadata": {
     },
     "output_type": "execute_result"
    }
   ],
   "source": [
    "answer = sum(poisson_proba(k=i, lambda_=lambda_) for i in range(5, 11))\n",
    "answer"
   ]
  },
  {
   "cell_type": "markdown",
   "metadata": {
    "collapsed": false
   },
   "source": [
    "__Ответ:__ 0.053"
   ]
  },
  {
   "cell_type": "code",
   "execution_count": 0,
   "metadata": {
    "collapsed": false
   },
   "outputs": [
   ],
   "source": [
   ]
  },
  {
   "cell_type": "code",
   "execution_count": 0,
   "metadata": {
    "collapsed": false
   },
   "outputs": [
   ],
   "source": [
   ]
  },
  {
   "cell_type": "markdown",
   "metadata": {
    "collapsed": false
   },
   "source": [
    "__Задача 3__\n",
    "\n",
    "В условиях предыдущей задачи сколько забросов удочки нужно сделать чтобы быть уверенным с вероятностью 0.9, что хотя бы 10 раз будет поймана рыба?"
   ]
  },
  {
   "cell_type": "code",
   "execution_count": 37,
   "metadata": {
    "collapsed": false
   },
   "outputs": [
   ],
   "source": [
    "p = 0.01\n",
    "n = 1\n",
    "probabilities = 0"
   ]
  },
  {
   "cell_type": "code",
   "execution_count": 41,
   "metadata": {
    "collapsed": false
   },
   "outputs": [
    {
     "name": "stdout",
     "output_type": "stream",
     "text": [
      "1542 0.900141980664332\n"
     ]
    }
   ],
   "source": [
    "while probabilities <= 0.9:\n",
    "    lambda_ = p * n\n",
    "    probabilities = 1 - sum(poisson_proba(k=i, lambda_=lambda_) for i in range(11))\n",
    "    n += 1\n",
    "print(countn, probabilities)\n"
   ]
  },
  {
   "cell_type": "markdown",
   "metadata": {
    "collapsed": false
   },
   "source": [
    "__Ответ:__ 1542"
   ]
  },
  {
   "cell_type": "code",
   "execution_count": 0,
   "metadata": {
    "collapsed": false
   },
   "outputs": [
   ],
   "source": [
   ]
  }
 ],
 "metadata": {
  "kernelspec": {
   "display_name": "Python 3 (system-wide)",
   "language": "python",
   "metadata": {
    "cocalc": {
     "description": "Python 3 programming language",
     "priority": 100,
     "url": "https://www.python.org/"
    }
   },
   "name": "python3",
   "resource_dir": "/ext/jupyter/kernels/python3"
  },
  "language_info": {
   "codemirror_mode": {
    "name": "ipython",
    "version": 3
   },
   "file_extension": ".py",
   "mimetype": "text/x-python",
   "name": "python",
   "nbconvert_exporter": "python",
   "pygments_lexer": "ipython3",
   "version": "3.8.10"
  }
 },
 "nbformat": 4,
 "nbformat_minor": 4
}