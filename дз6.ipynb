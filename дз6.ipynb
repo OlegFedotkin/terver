{
  "nbformat": 4,
  "nbformat_minor": 0,
  "metadata": {
    "colab": {
      "name": "дз6.ipynb",
      "provenance": [],
      "collapsed_sections": []
    },
    "kernelspec": {
      "name": "python3",
      "display_name": "Python 3"
    },
    "language_info": {
      "name": "python"
    }
  },
  "cells": [
    {
      "cell_type": "code",
      "metadata": {
        "id": "0CCq0NlkWqoJ"
      },
      "source": [
        "import numpy as np\n",
        "import pandas as pd\n",
        "from scipy import stats\n",
        "from matplotlib import pyplot as plt"
      ],
      "execution_count": 5,
      "outputs": []
    },
    {
      "cell_type": "markdown",
      "metadata": {
        "id": "lsGNdlLVWnBQ"
      },
      "source": [
        "__Задача 1__\n",
        "\n",
        "\n",
        "Даны значения величины заработной платы заемщиков банка (salary) и значения их поведенческого кредитного скоринга (scoring):\n",
        "\n",
        "salary = [35, 45, 190, 200, 40, 70, 54, 150, 120, 110]\n",
        "\n",
        "scoring = [401, 574, 874, 919, 459, 739, 653, 902, 746, 832]\n",
        "\n",
        "1. Найдите ковариацию этих двух величин: сначала без использования специальных функций, а затем с помощью функции numpy.cov. Полученные значения должны быть равны.\n",
        "2. Найдите коэффициент корреляции Пирсона: с помощью ковариации и средних квадратических отклонений двух признаков, а затем с помощью специальных функций из библиотек numpy и pandas."
      ]
    },
    {
      "cell_type": "code",
      "metadata": {
        "id": "ppWakZeXXaU9",
        "colab": {
          "base_uri": "https://localhost:8080/",
          "height": 363
        },
        "outputId": "4537e599-8e0c-48df-afd5-7ea607c5e6d2"
      },
      "source": [
        "df = pd.DataFrame({'salary':[35, 45, 190, 200, 40, 70, 54, 150, 120, 110], 'scoring':[401, 574, 874, 919, 459, 739, 653, 902, 746, 832]})\n",
        "df"
      ],
      "execution_count": 15,
      "outputs": [
        {
          "output_type": "execute_result",
          "data": {
            "text/html": [
              "<div>\n",
              "<style scoped>\n",
              "    .dataframe tbody tr th:only-of-type {\n",
              "        vertical-align: middle;\n",
              "    }\n",
              "\n",
              "    .dataframe tbody tr th {\n",
              "        vertical-align: top;\n",
              "    }\n",
              "\n",
              "    .dataframe thead th {\n",
              "        text-align: right;\n",
              "    }\n",
              "</style>\n",
              "<table border=\"1\" class=\"dataframe\">\n",
              "  <thead>\n",
              "    <tr style=\"text-align: right;\">\n",
              "      <th></th>\n",
              "      <th>salary</th>\n",
              "      <th>scoring</th>\n",
              "    </tr>\n",
              "  </thead>\n",
              "  <tbody>\n",
              "    <tr>\n",
              "      <th>0</th>\n",
              "      <td>35</td>\n",
              "      <td>401</td>\n",
              "    </tr>\n",
              "    <tr>\n",
              "      <th>1</th>\n",
              "      <td>45</td>\n",
              "      <td>574</td>\n",
              "    </tr>\n",
              "    <tr>\n",
              "      <th>2</th>\n",
              "      <td>190</td>\n",
              "      <td>874</td>\n",
              "    </tr>\n",
              "    <tr>\n",
              "      <th>3</th>\n",
              "      <td>200</td>\n",
              "      <td>919</td>\n",
              "    </tr>\n",
              "    <tr>\n",
              "      <th>4</th>\n",
              "      <td>40</td>\n",
              "      <td>459</td>\n",
              "    </tr>\n",
              "    <tr>\n",
              "      <th>5</th>\n",
              "      <td>70</td>\n",
              "      <td>739</td>\n",
              "    </tr>\n",
              "    <tr>\n",
              "      <th>6</th>\n",
              "      <td>54</td>\n",
              "      <td>653</td>\n",
              "    </tr>\n",
              "    <tr>\n",
              "      <th>7</th>\n",
              "      <td>150</td>\n",
              "      <td>902</td>\n",
              "    </tr>\n",
              "    <tr>\n",
              "      <th>8</th>\n",
              "      <td>120</td>\n",
              "      <td>746</td>\n",
              "    </tr>\n",
              "    <tr>\n",
              "      <th>9</th>\n",
              "      <td>110</td>\n",
              "      <td>832</td>\n",
              "    </tr>\n",
              "  </tbody>\n",
              "</table>\n",
              "</div>"
            ],
            "text/plain": [
              "   salary  scoring\n",
              "0      35      401\n",
              "1      45      574\n",
              "2     190      874\n",
              "3     200      919\n",
              "4      40      459\n",
              "5      70      739\n",
              "6      54      653\n",
              "7     150      902\n",
              "8     120      746\n",
              "9     110      832"
            ]
          },
          "metadata": {},
          "execution_count": 15
        }
      ]
    },
    {
      "cell_type": "code",
      "metadata": {
        "colab": {
          "base_uri": "https://localhost:8080/"
        },
        "id": "pkqQJpCjD_v1",
        "outputId": "1a344f93-6451-45a1-e26b-b2392a6450dd"
      },
      "source": [
        "X = df['salary']\n",
        "Y = df['scoring']\n",
        "\n",
        "MX = X.mean()\n",
        "MY = Y.mean()\n",
        "\n",
        "cov = ((X - MX) * (Y - MY)).sum() / (X.shape[0] - 1)\n",
        "cov"
      ],
      "execution_count": 16,
      "outputs": [
        {
          "output_type": "execute_result",
          "data": {
            "text/plain": [
              "10175.37777777778"
            ]
          },
          "metadata": {},
          "execution_count": 16
        }
      ]
    },
    {
      "cell_type": "code",
      "metadata": {
        "colab": {
          "base_uri": "https://localhost:8080/"
        },
        "id": "zFn8xKhDD_yi",
        "outputId": "cd993ca2-7a10-4501-f0a6-4d14fa7d6aad"
      },
      "source": [
        "np.cov(X, Y)"
      ],
      "execution_count": 17,
      "outputs": [
        {
          "output_type": "execute_result",
          "data": {
            "text/plain": [
              "array([[ 3882.93333333, 10175.37777778],\n",
              "       [10175.37777778, 33854.32222222]])"
            ]
          },
          "metadata": {},
          "execution_count": 17
        }
      ]
    },
    {
      "cell_type": "markdown",
      "metadata": {
        "id": "Vl00iTJtGN7W"
      },
      "source": [
        "Коэффициент корреляции Пирсона"
      ]
    },
    {
      "cell_type": "code",
      "metadata": {
        "colab": {
          "base_uri": "https://localhost:8080/"
        },
        "id": "y2qVoJSID_0v",
        "outputId": "47d11c1f-9681-4e45-e577-3673c9fa5c25"
      },
      "source": [
        "corr = cov / (X.std() * Y.std(ddof = 1))\n",
        "corr"
      ],
      "execution_count": 18,
      "outputs": [
        {
          "output_type": "execute_result",
          "data": {
            "text/plain": [
              "0.8874900920739164"
            ]
          },
          "metadata": {},
          "execution_count": 18
        }
      ]
    },
    {
      "cell_type": "code",
      "metadata": {
        "colab": {
          "base_uri": "https://localhost:8080/"
        },
        "id": "3PY6-p3jD_3F",
        "outputId": "cfa9e8a8-1fef-4290-e3c2-da5aadcbff06"
      },
      "source": [
        "np.corrcoef(X, Y)"
      ],
      "execution_count": 19,
      "outputs": [
        {
          "output_type": "execute_result",
          "data": {
            "text/plain": [
              "array([[1.        , 0.88749009],\n",
              "       [0.88749009, 1.        ]])"
            ]
          },
          "metadata": {},
          "execution_count": 19
        }
      ]
    },
    {
      "cell_type": "code",
      "metadata": {
        "id": "NpHo-76GD_5a"
      },
      "source": [
        ""
      ],
      "execution_count": null,
      "outputs": []
    },
    {
      "cell_type": "code",
      "metadata": {
        "id": "z7VVEXHLD_7l"
      },
      "source": [
        ""
      ],
      "execution_count": null,
      "outputs": []
    },
    {
      "cell_type": "markdown",
      "metadata": {
        "id": "23K1dpnOGSw1"
      },
      "source": [
        "__Задача 2__\n",
        "\n",
        "Измерены значения IQ выборки студентов, обучающихся в местных технических вузах:\n",
        "\n",
        "131, 125, 115, 122, 131, 115, 107, 99, 125, 111\n",
        "\n",
        "Известно, что в генеральной совокупности IQ распределен нормально. Найдите доверительный интервал для математического ожидания с надежностью 0.95."
      ]
    },
    {
      "cell_type": "code",
      "metadata": {
        "id": "zoAgFpvzD_-B"
      },
      "source": [
        "IQ = np.array([131, 125, 115, 122, 131, 115, 107, 99, 125, 111])"
      ],
      "execution_count": 27,
      "outputs": []
    },
    {
      "cell_type": "code",
      "metadata": {
        "colab": {
          "base_uri": "https://localhost:8080/"
        },
        "id": "qVVMSAUHEAAe",
        "outputId": "c3b622ca-34e9-4da9-e55d-12fd1b5c7314"
      },
      "source": [
        "p = 0.95\n",
        "alpha = 1 - p\n",
        "n = IQ.shape[0]\n",
        "mean = IQ.mean()\n",
        "std = IQ.std(ddof=1)\n",
        "\n",
        "\n",
        "n, mean, std, alpha"
      ],
      "execution_count": 40,
      "outputs": [
        {
          "output_type": "execute_result",
          "data": {
            "text/plain": [
              "(10, 118.1, 10.54566788359614, 0.050000000000000044)"
            ]
          },
          "metadata": {},
          "execution_count": 40
        }
      ]
    },
    {
      "cell_type": "code",
      "metadata": {
        "colab": {
          "base_uri": "https://localhost:8080/"
        },
        "id": "YxOTtA3iEACw",
        "outputId": "4959759b-c9de-4123-9077-04abf4f75a19"
      },
      "source": [
        "t1 = stats.norm.ppf(alpha / 2)\n",
        "t2 = stats.norm.ppf(1 - alpha / 2)\n",
        "\n",
        "t1, t2"
      ],
      "execution_count": 41,
      "outputs": [
        {
          "output_type": "execute_result",
          "data": {
            "text/plain": [
              "(-1.959963984540054, 1.959963984540054)"
            ]
          },
          "metadata": {},
          "execution_count": 41
        }
      ]
    },
    {
      "cell_type": "code",
      "metadata": {
        "id": "mYKjI-0qZ4YU",
        "colab": {
          "base_uri": "https://localhost:8080/"
        },
        "outputId": "39f7f524-5c4c-47f8-a9bf-54111caf8dfd"
      },
      "source": [
        "(mean + t1 * std / np.sqrt(n), mean + t2 * std / np.sqrt(n))"
      ],
      "execution_count": 42,
      "outputs": [
        {
          "output_type": "execute_result",
          "data": {
            "text/plain": [
              "(111.56384743341334, 124.63615256658665)"
            ]
          },
          "metadata": {},
          "execution_count": 42
        }
      ]
    },
    {
      "cell_type": "code",
      "metadata": {
        "id": "I_R4CrT-H-il"
      },
      "source": [
        ""
      ],
      "execution_count": null,
      "outputs": []
    },
    {
      "cell_type": "code",
      "metadata": {
        "id": "X1FoGWjsH-zM"
      },
      "source": [
        ""
      ],
      "execution_count": null,
      "outputs": []
    },
    {
      "cell_type": "markdown",
      "metadata": {
        "id": "Y44D4oLgH_FR"
      },
      "source": [
        "__Задача 3__\n",
        "\n",
        "Известно, что рост футболистов в сборной распределен нормально с известной дисперсией 25. На выборке объёма 27 выборочное среднее составило 174.2. Найдите доверительный интервал для математического ожидания с надежностью 0.95."
      ]
    },
    {
      "cell_type": "code",
      "metadata": {
        "id": "P4BwiFiOIAmh"
      },
      "source": [
        "s = 25\n",
        "n = 27\n",
        "mean = 174.2\n",
        "p = 0.95\n",
        "alpha = 1 - p"
      ],
      "execution_count": 43,
      "outputs": []
    },
    {
      "cell_type": "code",
      "metadata": {
        "colab": {
          "base_uri": "https://localhost:8080/"
        },
        "id": "zw1EE2x6IzqT",
        "outputId": "01b747dc-4ae7-42fe-9c8f-491a9febc14f"
      },
      "source": [
        "t1 = stats.norm.ppf(alpha / 2)\n",
        "t2 = stats.norm.ppf(1 - alpha / 2)\n",
        "\n",
        "t1, t2"
      ],
      "execution_count": 45,
      "outputs": [
        {
          "output_type": "execute_result",
          "data": {
            "text/plain": [
              "(-1.959963984540054, 1.959963984540054)"
            ]
          },
          "metadata": {},
          "execution_count": 45
        }
      ]
    },
    {
      "cell_type": "code",
      "metadata": {
        "colab": {
          "base_uri": "https://localhost:8080/"
        },
        "id": "zGTdp9GhIzsg",
        "outputId": "053b9747-0eab-49c0-bd3e-b94cd2a188eb"
      },
      "source": [
        "(mean + t1 * std / np.sqrt(n), mean + t2 * std / np.sqrt(n))"
      ],
      "execution_count": 46,
      "outputs": [
        {
          "output_type": "execute_result",
          "data": {
            "text/plain": [
              "(170.22222422220577, 178.1777757777942)"
            ]
          },
          "metadata": {},
          "execution_count": 46
        }
      ]
    },
    {
      "cell_type": "code",
      "metadata": {
        "id": "m24hvqY9Izu6"
      },
      "source": [
        ""
      ],
      "execution_count": null,
      "outputs": []
    },
    {
      "cell_type": "code",
      "metadata": {
        "id": "ZfwRwgdbIzw-"
      },
      "source": [
        ""
      ],
      "execution_count": null,
      "outputs": []
    },
    {
      "cell_type": "code",
      "metadata": {
        "id": "mBe_9OMeIzy-"
      },
      "source": [
        ""
      ],
      "execution_count": null,
      "outputs": []
    }
  ]
}