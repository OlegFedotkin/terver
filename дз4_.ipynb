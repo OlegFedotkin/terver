{
 "cells": [
  {
   "cell_type": "code",
   "execution_count": 33,
   "id": "4b05a6c8",
   "metadata": {},
   "outputs": [],
   "source": [
    "import numpy as np\n",
    "import pandas as pd\n",
    "import matplotlib.pyplot as plt\n",
    "import warnings\n",
    "import seaborn as sns\n",
    "warnings.filterwarnings('ignore')\n",
    "from scipy.stats import norm"
   ]
  },
  {
   "cell_type": "markdown",
   "id": "0de690d7",
   "metadata": {},
   "source": [
    "__Задача 1__\n",
    "\n",
    "О непрерывной равномерно распределенной случайной величине B известно, что ее дисперсия равна 0.2. Можно ли найти правую границу величины B и ее среднее значение зная, что левая граница равна 0.5? Если да, найдите ее.."
   ]
  },
  {
   "cell_type": "markdown",
   "id": "8dbd2b75",
   "metadata": {},
   "source": [
    "$$D(X) = \\frac{(b - a)^2}{12}$$"
   ]
  },
  {
   "cell_type": "code",
   "execution_count": 9,
   "id": "5ee93af5",
   "metadata": {},
   "outputs": [],
   "source": [
    "a = 0.5"
   ]
  },
  {
   "cell_type": "code",
   "execution_count": 10,
   "id": "ca759a43",
   "metadata": {},
   "outputs": [
    {
     "data": {
      "text/plain": [
       "2.049193338482967"
      ]
     },
     "execution_count": 10,
     "metadata": {},
     "output_type": "execute_result"
    }
   ],
   "source": [
    "b = np.sqrt(12 * 0.2) + 0.5\n",
    "b"
   ]
  },
  {
   "cell_type": "code",
   "execution_count": 12,
   "id": "964b3960",
   "metadata": {},
   "outputs": [
    {
     "data": {
      "text/plain": [
       "1.2745966692414834"
      ]
     },
     "execution_count": 12,
     "metadata": {},
     "output_type": "execute_result"
    }
   ],
   "source": [
    "B_mean = (a + b) / 2\n",
    "B_mean"
   ]
  },
  {
   "cell_type": "code",
   "execution_count": null,
   "id": "7f38844d",
   "metadata": {},
   "outputs": [],
   "source": []
  },
  {
   "cell_type": "markdown",
   "id": "32e97734",
   "metadata": {},
   "source": [
    "__Задача 2__\n",
    "\n",
    "Рост взрослого населения города X имеет нормальное распределение, причем, средний рост равен 174 см, а среднее квадратическое отклонение равно 8 см. посчитайте, какова вероятность того, что случайным образом выбранный взрослый человек имеет рост:\n",
    "1. больше 182 см?\n",
    "2. больше 190 см?\n",
    "3. от 166 см до 190 см?\n",
    "4. от 166 см до 182 см?\n",
    "5. от 158 см до 190 см?\n",
    "6. не выше 150 см или не ниже 190 см?\n",
    "7. не выше 150 см или не ниже 198 см?\n",
    "8. ниже 166 см?\n",
    "\n",
    "Задачу можно решить двумя способами: без использования сторонних библиотек (numpy, scipy, pandas и пр.), а затем проверить себя с помощью встроенных функций"
   ]
  },
  {
   "cell_type": "code",
   "execution_count": null,
   "id": "413d6676",
   "metadata": {},
   "outputs": [],
   "source": []
  },
  {
   "cell_type": "markdown",
   "id": "2c6e197f",
   "metadata": {},
   "source": [
    "Вероятность попадания в определенный интервал рассчитаем по следующей формуле:"
   ]
  },
  {
   "cell_type": "markdown",
   "id": "de409293",
   "metadata": {},
   "source": [
    "$$P(a<X<b) = F(\\frac{b - mean}{\\sigma}) - F(\\frac{a - mean}{\\sigma})$$"
   ]
  },
  {
   "cell_type": "code",
   "execution_count": null,
   "id": "c696a304",
   "metadata": {},
   "outputs": [],
   "source": []
  },
  {
   "cell_type": "markdown",
   "id": "5f91b2f3",
   "metadata": {},
   "source": [
    "1. больше 182 см?"
   ]
  },
  {
   "cell_type": "markdown",
   "id": "7eb72a9a",
   "metadata": {},
   "source": [
    "$$P(0<X<182) = F(\\frac{182 - 174}{8}) - F(\\frac{0 - 174}{8}) = 0.8413$$"
   ]
  },
  {
   "cell_type": "markdown",
   "id": "40210a66",
   "metadata": {},
   "source": [
    "P = 1 - 0.8413 = 0.1587"
   ]
  },
  {
   "cell_type": "code",
   "execution_count": null,
   "id": "a853548c",
   "metadata": {},
   "outputs": [],
   "source": []
  },
  {
   "cell_type": "code",
   "execution_count": null,
   "id": "85a52a48",
   "metadata": {},
   "outputs": [],
   "source": []
  },
  {
   "cell_type": "code",
   "execution_count": 25,
   "id": "55c7285a",
   "metadata": {},
   "outputs": [],
   "source": [
    "data = np.arange(100,250,0.01)"
   ]
  },
  {
   "cell_type": "code",
   "execution_count": 32,
   "id": "1a6607f6",
   "metadata": {},
   "outputs": [],
   "source": [
    "pdf = norm.pdf(data, loc = 174, scale = 8)"
   ]
  },
  {
   "cell_type": "code",
   "execution_count": 27,
   "id": "b1ae5a08",
   "metadata": {},
   "outputs": [
    {
     "data": {
      "text/plain": [
       "Text(0, 0.5, 'Probability Density')"
      ]
     },
     "execution_count": 27,
     "metadata": {},
     "output_type": "execute_result"
    },
    {
     "data": {
      "image/png": "[encoded data removed]",
      "text/plain": [
       "<Figure size 432x288 with 1 Axes>"
      ]
     },
     "metadata": {},
     "output_type": "display_data"
    }
   ],
   "source": [
    "sns.set_style('whitegrid')\n",
    "sns.lineplot(data, pdf , color = 'black')\n",
    "plt.xlabel('Heights')\n",
    "plt.ylabel('Probability Density')"
   ]
  },
  {
   "cell_type": "code",
   "execution_count": 35,
   "id": "bb61e6f9",
   "metadata": {},
   "outputs": [
    {
     "data": {
      "text/plain": [
       "0.15865525393145707"
      ]
     },
     "execution_count": 35,
     "metadata": {},
     "output_type": "execute_result"
    }
   ],
   "source": [
    "limit_182 = norm(loc = 174 , scale = 8).cdf(182)\n",
    "more_182 = 1 - limit_182\n",
    "more_182\n"
   ]
  },
  {
   "cell_type": "code",
   "execution_count": null,
   "id": "2a87f6b7",
   "metadata": {},
   "outputs": [],
   "source": []
  },
  {
   "cell_type": "markdown",
   "id": "d019983c",
   "metadata": {},
   "source": [
    "2. больше 190 см?"
   ]
  },
  {
   "cell_type": "code",
   "execution_count": 36,
   "id": "190a65f8",
   "metadata": {},
   "outputs": [
    {
     "data": {
      "text/plain": [
       "0.15865525393145707"
      ]
     },
     "execution_count": 36,
     "metadata": {},
     "output_type": "execute_result"
    }
   ],
   "source": [
    "limit_190 = norm(loc = 174 , scale = 8).cdf(190)\n",
    "more_190 = 1 - limit_182\n",
    "more_190"
   ]
  },
  {
   "cell_type": "code",
   "execution_count": null,
   "id": "1d300e06",
   "metadata": {},
   "outputs": [],
   "source": []
  },
  {
   "cell_type": "markdown",
   "id": "5c64572e",
   "metadata": {},
   "source": [
    "3. от 166 см до 190 см?"
   ]
  },
  {
   "cell_type": "code",
   "execution_count": 37,
   "id": "9f6f5c72",
   "metadata": {},
   "outputs": [
    {
     "data": {
      "text/plain": [
       "0.8185946141203637"
      ]
     },
     "execution_count": 37,
     "metadata": {},
     "output_type": "execute_result"
    }
   ],
   "source": [
    "limit_166 = norm(loc = 174 , scale = 8).cdf(166)\n",
    "limit_190 = norm(loc = 174 , scale = 8).cdf(190)\n",
    "between_166_and_190 = limit_190 - limit_166\n",
    "between_166_and_190"
   ]
  },
  {
   "cell_type": "code",
   "execution_count": null,
   "id": "27032a4c",
   "metadata": {},
   "outputs": [],
   "source": []
  },
  {
   "cell_type": "markdown",
   "id": "0cbdece7",
   "metadata": {},
   "source": [
    "4. от 166 см до 182 см?"
   ]
  },
  {
   "cell_type": "code",
   "execution_count": 38,
   "id": "8380603f",
   "metadata": {},
   "outputs": [
    {
     "data": {
      "text/plain": [
       "0.6826894921370859"
      ]
     },
     "execution_count": 38,
     "metadata": {},
     "output_type": "execute_result"
    }
   ],
   "source": [
    "limit_166 = norm(loc = 174 , scale = 8).cdf(166)\n",
    "limit_182 = norm(loc = 174 , scale = 8).cdf(182)\n",
    "between_166_and_182 = limit_182 - limit_166\n",
    "between_166_and_182"
   ]
  },
  {
   "cell_type": "code",
   "execution_count": null,
   "id": "224824ee",
   "metadata": {},
   "outputs": [],
   "source": []
  },
  {
   "cell_type": "markdown",
   "id": "baba101b",
   "metadata": {},
   "source": [
    "5. от 158 см до 190 см?"
   ]
  },
  {
   "cell_type": "code",
   "execution_count": 39,
   "id": "474f551b",
   "metadata": {},
   "outputs": [
    {
     "data": {
      "text/plain": [
       "0.9544997361036416"
      ]
     },
     "execution_count": 39,
     "metadata": {},
     "output_type": "execute_result"
    }
   ],
   "source": [
    "limit_158 = norm(loc = 174 , scale = 8).cdf(158)\n",
    "limit_190 = norm(loc = 174 , scale = 8).cdf(190)\n",
    "between_158_and_190 = limit_190 - limit_158\n",
    "between_158_and_190"
   ]
  },
  {
   "cell_type": "code",
   "execution_count": null,
   "id": "2b88db82",
   "metadata": {},
   "outputs": [],
   "source": []
  },
  {
   "cell_type": "markdown",
   "id": "4ff1a437",
   "metadata": {},
   "source": [
    "6. не выше 150 см или не ниже 190 см?"
   ]
  },
  {
   "cell_type": "code",
   "execution_count": 44,
   "id": "ad9a25d4",
   "metadata": {},
   "outputs": [
    {
     "data": {
      "text/plain": [
       "0.0241000299798093"
      ]
     },
     "execution_count": 44,
     "metadata": {},
     "output_type": "execute_result"
    }
   ],
   "source": [
    "limit_150 = norm(loc = 174 , scale = 8).cdf(150)\n",
    "limit_190 = norm(loc = 174 , scale = 8).cdf(190)\n",
    "more_190 = 1 - limit_190\n",
    "less_150_and_more_190 = limit_150 + more_190\n",
    "less_150_and_more_190"
   ]
  },
  {
   "cell_type": "code",
   "execution_count": null,
   "id": "3c00bd7e",
   "metadata": {},
   "outputs": [],
   "source": []
  },
  {
   "cell_type": "markdown",
   "id": "1d20d9e9",
   "metadata": {},
   "source": [
    "7. не выше 150 см или не ниже 198 см?"
   ]
  },
  {
   "cell_type": "code",
   "execution_count": 45,
   "id": "c5a591b8",
   "metadata": {},
   "outputs": [
    {
     "data": {
      "text/plain": [
       "0.0026997960632601965"
      ]
     },
     "execution_count": 45,
     "metadata": {},
     "output_type": "execute_result"
    }
   ],
   "source": [
    "limit_150 = norm(loc = 174 , scale = 8).cdf(150)\n",
    "limit_198 = norm(loc = 174 , scale = 8).cdf(198)\n",
    "more_198 = 1 - limit_198\n",
    "less_150_and_more_198 = limit_150 + more_198\n",
    "less_150_and_more_198"
   ]
  },
  {
   "cell_type": "code",
   "execution_count": null,
   "id": "069c9fbc",
   "metadata": {},
   "outputs": [],
   "source": []
  },
  {
   "cell_type": "markdown",
   "id": "85aa1cca",
   "metadata": {},
   "source": [
    "8. ниже 166 см?"
   ]
  },
  {
   "cell_type": "code",
   "execution_count": 47,
   "id": "555e42ef",
   "metadata": {},
   "outputs": [
    {
     "data": {
      "text/plain": [
       "0.15865525393145707"
      ]
     },
     "execution_count": 47,
     "metadata": {},
     "output_type": "execute_result"
    }
   ],
   "source": [
    "limit_166 = norm(loc = 174 , scale = 8).cdf(166)\n",
    "limit_166"
   ]
  },
  {
   "cell_type": "code",
   "execution_count": null,
   "id": "ce830aad",
   "metadata": {},
   "outputs": [],
   "source": []
  },
  {
   "cell_type": "code",
   "execution_count": null,
   "id": "e0bc7ed4",
   "metadata": {},
   "outputs": [],
   "source": []
  },
  {
   "cell_type": "markdown",
   "id": "8701abca",
   "metadata": {},
   "source": [
    "__Задача 3__\n",
    "\n",
    "Коробки с шоколадом упаковываются автоматически. Их средняя масса равна 1.06 кг. Известно, что 5% коробок имеют массу, меньшую 1 кг. Найдите: а) среднее квадратическое отклонение массы коробки, б) процент коробок, имеющих массу больше 1.1 кг."
   ]
  },
  {
   "cell_type": "markdown",
   "id": "066c3e1b",
   "metadata": {},
   "source": [
    "$$P(-99999<X<1) = F(\\frac{1-1.06}{\\sigma}) - F(\\frac{-99999-1.06}{\\sigma}) = 0.05$$"
   ]
  },
  {
   "cell_type": "markdown",
   "id": "3dd7c555",
   "metadata": {},
   "source": [
    "$$F(\\frac{0.06}{\\sigma}) - F(-99999) = 0.05$$"
   ]
  },
  {
   "cell_type": "markdown",
   "id": "ae6de6a8",
   "metadata": {},
   "source": [
    "$$F(\\frac{0.06}{\\sigma}) - 0.5 = 0.05$$"
   ]
  },
  {
   "cell_type": "markdown",
   "id": "a8e660bf",
   "metadata": {},
   "source": [
    "$$\\frac{0.06}{\\sigma} = 1.645$$"
   ]
  },
  {
   "cell_type": "markdown",
   "id": "4ee765e3",
   "metadata": {},
   "source": [
    "$$\\sigma = 0.0365$$"
   ]
  },
  {
   "cell_type": "markdown",
   "id": "ea461dcd",
   "metadata": {},
   "source": [
    "$$P(1.1<X<99999) = F(\\frac{99999-1.06}{0.0365}) - F(\\frac{1.1-1.06}{0.0365}) = 0.1357$$"
   ]
  },
  {
   "cell_type": "code",
   "execution_count": null,
   "id": "47a81230",
   "metadata": {},
   "outputs": [],
   "source": []
  },
  {
   "cell_type": "code",
   "execution_count": null,
   "id": "c5ac09a8",
   "metadata": {},
   "outputs": [],
   "source": []
  }
 ],
 "metadata": {
  "kernelspec": {
   "display_name": "Python 3",
   "language": "python",
   "name": "python3"
  },
  "language_info": {
   "codemirror_mode": {
    "name": "ipython",
    "version": 3
   },
   "file_extension": ".py",
   "mimetype": "text/x-python",
   "name": "python",
   "nbconvert_exporter": "python",
   "pygments_lexer": "ipython3",
   "version": "3.9.0"
  }
 },
 "nbformat": 4,
 "nbformat_minor": 5
}
